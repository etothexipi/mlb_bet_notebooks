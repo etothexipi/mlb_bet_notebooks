{
 "cells": [
  {
   "cell_type": "markdown",
   "metadata": {},
   "source": [
    "# Explore and Model StatFox Matchup Data\n",
    "`mlb_bet_notebooks/model_statfox_matchups.ipynb`\n",
    "- Explore features\n",
    "- Convert historical moneylines to break-even probabilities\n",
    "- Model pre-computed features with RF and maybe PCA\n",
    "- Compare model predictions to historical moneylines\n",
    "    - Use break-even probabilities as alternative model and compare ROC\n",
    "Jonathan Sims 2020-02-24"
   ]
  },
  {
   "cell_type": "code",
   "execution_count": 19,
   "metadata": {},
   "outputs": [],
   "source": [
    "import pandas as pd \n",
    "from sklearn.ensemble import RandomForestClassifier\n",
    "from sklearn.metrics import roc_auc_score\n",
    "import numpy as np\n",
    "from sklearn import decomposition\n",
    "from sklearn.preprocessing import StandardScaler"
   ]
  },
  {
   "cell_type": "code",
   "execution_count": 6,
   "metadata": {},
   "outputs": [],
   "source": [
    "file_in = '20200222.skr_statfox.2018.tsv.gz'"
   ]
  },
  {
   "cell_type": "markdown",
   "metadata": {},
   "source": [
    "#### Import features, moneylines, target"
   ]
  },
  {
   "cell_type": "code",
   "execution_count": 7,
   "metadata": {},
   "outputs": [],
   "source": [
    "df = pd.read_csv(file_in, sep='\\t')"
   ]
  },
  {
   "cell_type": "code",
   "execution_count": 9,
   "metadata": {},
   "outputs": [
    {
     "data": {
      "text/plain": [
       "['H__Latest_Line',\n",
       " 'H__Opening_Line',\n",
       " 'V__Latest_Line',\n",
       " 'V__Opening_Line',\n",
       " 'H__Latest_Total',\n",
       " 'H__Opening_Total',\n",
       " 'V__Latest_Total',\n",
       " 'V__Opening_Total',\n",
       " 'sc_h',\n",
       " 'sc_v',\n",
       " 'win_h',\n",
       " 'H_Bullpen_Pct_AllGames',\n",
       " 'H_Bullpen_Pct_HomeGames',\n",
       " 'V_Bullpen_Pct_AllGames',\n",
       " 'V_Bullpen_Pct_RoadGames',\n",
       " 'tm_h',\n",
       " 'tm_v']"
      ]
     },
     "execution_count": 9,
     "metadata": {},
     "output_type": "execute_result"
    }
   ],
   "source": [
    "#### Separate features and targets\n",
    "\n",
    "lines = [col for col in df.columns if '_Line' in col]\n",
    "totals = [col for col in df.columns if '_Total' in col]\n",
    "percs = [col for col in df.columns if 'Pct' in col]\n",
    "teams = ['tm_h', 'tm_v']\n",
    "scores = ['sc_h','sc_v']\n",
    "feats = ['win_h']\n",
    "# drop = pd.concat([lines, totals, scores, feats])\n",
    "drop = lines+totals+scores+feats+percs+teams\n",
    "drop"
   ]
  },
  {
   "cell_type": "code",
   "execution_count": 10,
   "metadata": {},
   "outputs": [],
   "source": [
    "df_feat = df.drop(drop, axis=1)\n",
    "df_targ = df['win_h']\n",
    "df_openline = df['H__Opening_Line']\n",
    "df_lateline = df['H__Latest_Line']"
   ]
  },
  {
   "cell_type": "code",
   "execution_count": 11,
   "metadata": {},
   "outputs": [],
   "source": [
    "def american_to_probability(x):\n",
    "    \"\"\"\n",
    "    Turns American +/- odds into probability 0 to 1 inclusive\n",
    "    \"\"\"\n",
    "    if x.find('-') > -1 and x.find('+') > -1:\n",
    "        print('Error: + and - signs found in betting line string') \n",
    "\n",
    "    elif x.find('-') > -1:\n",
    "        num = int(x.replace(' ','').replace('-',''))\n",
    "        if num < 100:\n",
    "            print('Error: Betting line outside bounds [100,+inf]')\n",
    "        else:\n",
    "            pr = num/(100+num)\n",
    "            return pr\n",
    "\n",
    "    elif x.find('+') > -1:\n",
    "        num = int(x.replace(' ','').replace('+',''))\n",
    "        if num < 100 or num > 999:\n",
    "            print('Error: Betting line outside bounds [100,999]')\n",
    "        else:\n",
    "            pr = 100/(100+num)\n",
    "            return pr\n",
    "\n",
    "#     else:\n",
    "#         print('Error: No sign found in betting line string')"
   ]
  },
  {
   "cell_type": "markdown",
   "metadata": {},
   "source": [
    "#### Calculate open and close moneyline ROC AUC"
   ]
  },
  {
   "cell_type": "code",
   "execution_count": 12,
   "metadata": {},
   "outputs": [
    {
     "data": {
      "text/plain": [
       "0.6200886381840088"
      ]
     },
     "execution_count": 12,
     "metadata": {},
     "output_type": "execute_result"
    }
   ],
   "source": [
    "df_lateline_prob = df_lateline.apply(american_to_probability)\n",
    "\n",
    "keeps = df_lateline_prob[lambda x: (0 <= x) & (x <= 1)]\n",
    "\n",
    "df_lateline_prob = df_lateline_prob[keeps.index]\n",
    "\n",
    "df_targ_keeps = df_targ[keeps.index]\n",
    "\n",
    "roc_auc_score(df_targ_keeps, df_lateline_prob)"
   ]
  },
  {
   "cell_type": "code",
   "execution_count": 13,
   "metadata": {},
   "outputs": [
    {
     "data": {
      "text/plain": [
       "0.616253699511644"
      ]
     },
     "execution_count": 13,
     "metadata": {},
     "output_type": "execute_result"
    }
   ],
   "source": [
    "df_openline_prob = df_openline.apply(american_to_probability)\n",
    "\n",
    "keeps = df_openline_prob[lambda x: (0 <= x) & (x <= 1)]\n",
    "\n",
    "df_openline_prob = df_openline_prob[keeps.index]\n",
    "\n",
    "df_targ_keeps = df_targ[keeps.index]\n",
    "\n",
    "roc_auc_score(df_targ_keeps, df_openline_prob)"
   ]
  },
  {
   "cell_type": "markdown",
   "metadata": {},
   "source": [
    "#### Test RF with AUC and no preprocessing"
   ]
  },
  {
   "cell_type": "code",
   "execution_count": 23,
   "metadata": {},
   "outputs": [],
   "source": [
    "with pd.option_context('mode.use_inf_as_null', True):\n",
    "    df_feat_clean = df_feat.fillna(value=0)"
   ]
  },
  {
   "cell_type": "code",
   "execution_count": 52,
   "metadata": {},
   "outputs": [],
   "source": [
    "n_split = 2000"
   ]
  },
  {
   "cell_type": "code",
   "execution_count": 56,
   "metadata": {},
   "outputs": [],
   "source": [
    "df_feat_train = df_feat_clean.iloc[:nsplit]\n",
    "df_targ_train = df_targ.iloc[:nsplit]\n",
    "df_feat_test = df_feat_clean.iloc[nsplit:]\n",
    "df_targ_test = df_targ.iloc[nsplit:]"
   ]
  },
  {
   "cell_type": "code",
   "execution_count": 57,
   "metadata": {},
   "outputs": [
    {
     "data": {
      "text/plain": [
       "0.5366005097928149"
      ]
     },
     "execution_count": 57,
     "metadata": {},
     "output_type": "execute_result"
    }
   ],
   "source": [
    "clf = RandomForestClassifier(n_estimators=1000)\n",
    "df_fit = clf.fit(df_feat_train, df_targ_train)\n",
    "df_pred = df_fit.predict(df_feat_test)\n",
    "roc_auc_score(df_targ_test, df_pred)"
   ]
  },
  {
   "cell_type": "markdown",
   "metadata": {},
   "source": [
    "#### Examine overall features"
   ]
  },
  {
   "cell_type": "code",
   "execution_count": 17,
   "metadata": {},
   "outputs": [
    {
     "data": {
      "text/html": [
       "<div>\n",
       "<style scoped>\n",
       "    .dataframe tbody tr th:only-of-type {\n",
       "        vertical-align: middle;\n",
       "    }\n",
       "\n",
       "    .dataframe tbody tr th {\n",
       "        vertical-align: top;\n",
       "    }\n",
       "\n",
       "    .dataframe thead th {\n",
       "        text-align: right;\n",
       "    }\n",
       "</style>\n",
       "<table border=\"1\" class=\"dataframe\">\n",
       "  <thead>\n",
       "    <tr style=\"text-align: right;\">\n",
       "      <th></th>\n",
       "      <th>H_Bullpen_HR_HomeGames</th>\n",
       "      <th>H_Bullpen_H_AllGames</th>\n",
       "      <th>H_Bullpen_H_HomeGames</th>\n",
       "      <th>H_Bullpen_IP_AllGames</th>\n",
       "      <th>H_Bullpen_IP_HomeGames</th>\n",
       "      <th>H_Bullpen_L_AllGames</th>\n",
       "      <th>H_Bullpen_L_HomeGames</th>\n",
       "      <th>H_Bullpen_R_AllGames</th>\n",
       "      <th>H_Bullpen_R_HomeGames</th>\n",
       "      <th>H_Bullpen_SO_AllGames</th>\n",
       "      <th>H_Bullpen_SO_HomeGames</th>\n",
       "      <th>H_Bullpen_SV_AllGames</th>\n",
       "      <th>H_Bullpen_SV_HomeGames</th>\n",
       "      <th>H_Bullpen_WHIP_AllGames</th>\n",
       "      <th>H_Bullpen_WHIP_HomeGames</th>\n",
       "      <th>H_Bullpen_W_AllGames</th>\n",
       "      <th>H_Bullpen_W_HomeGames</th>\n",
       "      <th>H_HitField_TeamBatting_2B_AllGames</th>\n",
       "      <th>H_HitField_TeamBatting_2B_HomeGames</th>\n",
       "      <th>H_HitField_TeamBatting_2B_LeftyStarters</th>\n",
       "    </tr>\n",
       "  </thead>\n",
       "  <tbody>\n",
       "    <tr>\n",
       "      <th>count</th>\n",
       "      <td>2430.000000</td>\n",
       "      <td>2430.000000</td>\n",
       "      <td>2430.000000</td>\n",
       "      <td>2430.000000</td>\n",
       "      <td>2430.000000</td>\n",
       "      <td>2430.000000</td>\n",
       "      <td>2430.000000</td>\n",
       "      <td>2430.000000</td>\n",
       "      <td>2430.000000</td>\n",
       "      <td>2430.000000</td>\n",
       "      <td>2430.000000</td>\n",
       "      <td>2430.000000</td>\n",
       "      <td>2430.000000</td>\n",
       "      <td>2430.000000</td>\n",
       "      <td>2430.000000</td>\n",
       "      <td>2430.000000</td>\n",
       "      <td>2430.000000</td>\n",
       "      <td>2430.000000</td>\n",
       "      <td>2415.000000</td>\n",
       "      <td>744.000000</td>\n",
       "    </tr>\n",
       "    <tr>\n",
       "      <th>mean</th>\n",
       "      <td>17.655967</td>\n",
       "      <td>273.954733</td>\n",
       "      <td>138.768724</td>\n",
       "      <td>295.671317</td>\n",
       "      <td>152.128230</td>\n",
       "      <td>14.071605</td>\n",
       "      <td>6.412346</td>\n",
       "      <td>143.340741</td>\n",
       "      <td>71.263374</td>\n",
       "      <td>294.634979</td>\n",
       "      <td>149.693827</td>\n",
       "      <td>21.585597</td>\n",
       "      <td>10.211523</td>\n",
       "      <td>1.319481</td>\n",
       "      <td>1.282777</td>\n",
       "      <td>15.108642</td>\n",
       "      <td>8.495062</td>\n",
       "      <td>132.513169</td>\n",
       "      <td>65.813251</td>\n",
       "      <td>38.631720</td>\n",
       "    </tr>\n",
       "    <tr>\n",
       "      <th>std</th>\n",
       "      <td>11.335818</td>\n",
       "      <td>158.823509</td>\n",
       "      <td>80.419178</td>\n",
       "      <td>168.197690</td>\n",
       "      <td>87.629249</td>\n",
       "      <td>8.568219</td>\n",
       "      <td>4.357663</td>\n",
       "      <td>86.203069</td>\n",
       "      <td>43.047828</td>\n",
       "      <td>167.428139</td>\n",
       "      <td>87.290277</td>\n",
       "      <td>12.938555</td>\n",
       "      <td>6.747864</td>\n",
       "      <td>0.134223</td>\n",
       "      <td>0.177452</td>\n",
       "      <td>9.606702</td>\n",
       "      <td>5.824009</td>\n",
       "      <td>74.786869</td>\n",
       "      <td>37.993496</td>\n",
       "      <td>22.949564</td>\n",
       "    </tr>\n",
       "    <tr>\n",
       "      <th>min</th>\n",
       "      <td>0.000000</td>\n",
       "      <td>6.000000</td>\n",
       "      <td>0.000000</td>\n",
       "      <td>10.000000</td>\n",
       "      <td>0.000000</td>\n",
       "      <td>0.000000</td>\n",
       "      <td>0.000000</td>\n",
       "      <td>2.000000</td>\n",
       "      <td>0.000000</td>\n",
       "      <td>9.000000</td>\n",
       "      <td>0.000000</td>\n",
       "      <td>0.000000</td>\n",
       "      <td>0.000000</td>\n",
       "      <td>0.844000</td>\n",
       "      <td>0.000000</td>\n",
       "      <td>0.000000</td>\n",
       "      <td>0.000000</td>\n",
       "      <td>4.000000</td>\n",
       "      <td>0.000000</td>\n",
       "      <td>0.000000</td>\n",
       "    </tr>\n",
       "    <tr>\n",
       "      <th>25%</th>\n",
       "      <td>8.000000</td>\n",
       "      <td>140.000000</td>\n",
       "      <td>71.000000</td>\n",
       "      <td>152.700000</td>\n",
       "      <td>77.325000</td>\n",
       "      <td>7.000000</td>\n",
       "      <td>3.000000</td>\n",
       "      <td>70.000000</td>\n",
       "      <td>35.000000</td>\n",
       "      <td>157.250000</td>\n",
       "      <td>76.000000</td>\n",
       "      <td>11.000000</td>\n",
       "      <td>4.250000</td>\n",
       "      <td>1.224000</td>\n",
       "      <td>1.213250</td>\n",
       "      <td>7.000000</td>\n",
       "      <td>4.000000</td>\n",
       "      <td>69.000000</td>\n",
       "      <td>34.000000</td>\n",
       "      <td>20.000000</td>\n",
       "    </tr>\n",
       "    <tr>\n",
       "      <th>50%</th>\n",
       "      <td>16.000000</td>\n",
       "      <td>266.000000</td>\n",
       "      <td>136.000000</td>\n",
       "      <td>290.150000</td>\n",
       "      <td>149.300000</td>\n",
       "      <td>14.000000</td>\n",
       "      <td>6.000000</td>\n",
       "      <td>136.000000</td>\n",
       "      <td>69.000000</td>\n",
       "      <td>290.500000</td>\n",
       "      <td>146.000000</td>\n",
       "      <td>21.000000</td>\n",
       "      <td>10.000000</td>\n",
       "      <td>1.324000</td>\n",
       "      <td>1.284000</td>\n",
       "      <td>14.000000</td>\n",
       "      <td>7.000000</td>\n",
       "      <td>132.000000</td>\n",
       "      <td>65.000000</td>\n",
       "      <td>38.000000</td>\n",
       "    </tr>\n",
       "    <tr>\n",
       "      <th>75%</th>\n",
       "      <td>26.000000</td>\n",
       "      <td>404.000000</td>\n",
       "      <td>206.000000</td>\n",
       "      <td>433.000000</td>\n",
       "      <td>223.700000</td>\n",
       "      <td>21.000000</td>\n",
       "      <td>10.000000</td>\n",
       "      <td>212.750000</td>\n",
       "      <td>106.000000</td>\n",
       "      <td>428.000000</td>\n",
       "      <td>218.000000</td>\n",
       "      <td>32.000000</td>\n",
       "      <td>15.000000</td>\n",
       "      <td>1.409000</td>\n",
       "      <td>1.372000</td>\n",
       "      <td>21.000000</td>\n",
       "      <td>12.000000</td>\n",
       "      <td>196.000000</td>\n",
       "      <td>96.000000</td>\n",
       "      <td>55.000000</td>\n",
       "    </tr>\n",
       "    <tr>\n",
       "      <th>max</th>\n",
       "      <td>47.000000</td>\n",
       "      <td>713.000000</td>\n",
       "      <td>342.000000</td>\n",
       "      <td>818.700000</td>\n",
       "      <td>432.000000</td>\n",
       "      <td>36.000000</td>\n",
       "      <td>19.000000</td>\n",
       "      <td>377.000000</td>\n",
       "      <td>192.000000</td>\n",
       "      <td>752.000000</td>\n",
       "      <td>409.000000</td>\n",
       "      <td>59.000000</td>\n",
       "      <td>31.000000</td>\n",
       "      <td>2.000000</td>\n",
       "      <td>2.151000</td>\n",
       "      <td>54.000000</td>\n",
       "      <td>34.000000</td>\n",
       "      <td>318.000000</td>\n",
       "      <td>186.000000</td>\n",
       "      <td>103.000000</td>\n",
       "    </tr>\n",
       "  </tbody>\n",
       "</table>\n",
       "</div>"
      ],
      "text/plain": [
       "       H_Bullpen_HR_HomeGames  H_Bullpen_H_AllGames  H_Bullpen_H_HomeGames  \\\n",
       "count             2430.000000           2430.000000            2430.000000   \n",
       "mean                17.655967            273.954733             138.768724   \n",
       "std                 11.335818            158.823509              80.419178   \n",
       "min                  0.000000              6.000000               0.000000   \n",
       "25%                  8.000000            140.000000              71.000000   \n",
       "50%                 16.000000            266.000000             136.000000   \n",
       "75%                 26.000000            404.000000             206.000000   \n",
       "max                 47.000000            713.000000             342.000000   \n",
       "\n",
       "       H_Bullpen_IP_AllGames  H_Bullpen_IP_HomeGames  H_Bullpen_L_AllGames  \\\n",
       "count            2430.000000             2430.000000           2430.000000   \n",
       "mean              295.671317              152.128230             14.071605   \n",
       "std               168.197690               87.629249              8.568219   \n",
       "min                10.000000                0.000000              0.000000   \n",
       "25%               152.700000               77.325000              7.000000   \n",
       "50%               290.150000              149.300000             14.000000   \n",
       "75%               433.000000              223.700000             21.000000   \n",
       "max               818.700000              432.000000             36.000000   \n",
       "\n",
       "       H_Bullpen_L_HomeGames  H_Bullpen_R_AllGames  H_Bullpen_R_HomeGames  \\\n",
       "count            2430.000000           2430.000000            2430.000000   \n",
       "mean                6.412346            143.340741              71.263374   \n",
       "std                 4.357663             86.203069              43.047828   \n",
       "min                 0.000000              2.000000               0.000000   \n",
       "25%                 3.000000             70.000000              35.000000   \n",
       "50%                 6.000000            136.000000              69.000000   \n",
       "75%                10.000000            212.750000             106.000000   \n",
       "max                19.000000            377.000000             192.000000   \n",
       "\n",
       "       H_Bullpen_SO_AllGames  H_Bullpen_SO_HomeGames  H_Bullpen_SV_AllGames  \\\n",
       "count            2430.000000             2430.000000            2430.000000   \n",
       "mean              294.634979              149.693827              21.585597   \n",
       "std               167.428139               87.290277              12.938555   \n",
       "min                 9.000000                0.000000               0.000000   \n",
       "25%               157.250000               76.000000              11.000000   \n",
       "50%               290.500000              146.000000              21.000000   \n",
       "75%               428.000000              218.000000              32.000000   \n",
       "max               752.000000              409.000000              59.000000   \n",
       "\n",
       "       H_Bullpen_SV_HomeGames  H_Bullpen_WHIP_AllGames  \\\n",
       "count             2430.000000              2430.000000   \n",
       "mean                10.211523                 1.319481   \n",
       "std                  6.747864                 0.134223   \n",
       "min                  0.000000                 0.844000   \n",
       "25%                  4.250000                 1.224000   \n",
       "50%                 10.000000                 1.324000   \n",
       "75%                 15.000000                 1.409000   \n",
       "max                 31.000000                 2.000000   \n",
       "\n",
       "       H_Bullpen_WHIP_HomeGames  H_Bullpen_W_AllGames  H_Bullpen_W_HomeGames  \\\n",
       "count               2430.000000           2430.000000            2430.000000   \n",
       "mean                   1.282777             15.108642               8.495062   \n",
       "std                    0.177452              9.606702               5.824009   \n",
       "min                    0.000000              0.000000               0.000000   \n",
       "25%                    1.213250              7.000000               4.000000   \n",
       "50%                    1.284000             14.000000               7.000000   \n",
       "75%                    1.372000             21.000000              12.000000   \n",
       "max                    2.151000             54.000000              34.000000   \n",
       "\n",
       "       H_HitField_TeamBatting_2B_AllGames  \\\n",
       "count                         2430.000000   \n",
       "mean                           132.513169   \n",
       "std                             74.786869   \n",
       "min                              4.000000   \n",
       "25%                             69.000000   \n",
       "50%                            132.000000   \n",
       "75%                            196.000000   \n",
       "max                            318.000000   \n",
       "\n",
       "       H_HitField_TeamBatting_2B_HomeGames  \\\n",
       "count                          2415.000000   \n",
       "mean                             65.813251   \n",
       "std                              37.993496   \n",
       "min                               0.000000   \n",
       "25%                              34.000000   \n",
       "50%                              65.000000   \n",
       "75%                              96.000000   \n",
       "max                             186.000000   \n",
       "\n",
       "       H_HitField_TeamBatting_2B_LeftyStarters  \n",
       "count                               744.000000  \n",
       "mean                                 38.631720  \n",
       "std                                  22.949564  \n",
       "min                                   0.000000  \n",
       "25%                                  20.000000  \n",
       "50%                                  38.000000  \n",
       "75%                                  55.000000  \n",
       "max                                 103.000000  "
      ]
     },
     "execution_count": 17,
     "metadata": {},
     "output_type": "execute_result"
    }
   ],
   "source": [
    "df_feat[df_feat.columns[10:30]].describe()"
   ]
  },
  {
   "cell_type": "markdown",
   "metadata": {},
   "source": [
    "## Test out PCA"
   ]
  },
  {
   "cell_type": "markdown",
   "metadata": {},
   "source": [
    "#### Standardize Features"
   ]
  },
  {
   "cell_type": "code",
   "execution_count": 44,
   "metadata": {},
   "outputs": [
    {
     "ename": "IndentationError",
     "evalue": "unexpected indent (<ipython-input-44-490a622fbf81>, line 5)",
     "output_type": "error",
     "traceback": [
      "\u001b[0;36m  File \u001b[0;32m\"<ipython-input-44-490a622fbf81>\"\u001b[0;36m, line \u001b[0;32m5\u001b[0m\n\u001b[0;31m    sc = StandardScaler()\u001b[0m\n\u001b[0m    ^\u001b[0m\n\u001b[0;31mIndentationError\u001b[0m\u001b[0;31m:\u001b[0m unexpected indent\n"
     ]
    }
   ],
   "source": [
    "def RunPCA(X,n):\n",
    "    \"\"\"Takes an input data set X and returns n principal components\n",
    "    \"\"\"\n",
    "    # Create a scaler object\n",
    "    sc = StandardScaler()\n",
    "    \n",
    "    # Fit the scaler to the features and transform\n",
    "    X_std = sc.fit_transform(X)\n",
    "\n",
    "    # Create a pca object with the 2 components as a parameter\n",
    "    pca = decomposition.PCA(n_components=n)\n",
    "\n",
    "    # Fit the PCA and transform the data\n",
    "    X_std_pca = pca.fit_transform(X_std)\n",
    "    \n",
    "    return X_std_pca"
   ]
  },
  {
   "cell_type": "code",
   "execution_count": 64,
   "metadata": {},
   "outputs": [],
   "source": [
    "# Set number of games to partition train/test split at\n",
    "nsplit = 2200"
   ]
  },
  {
   "cell_type": "code",
   "execution_count": 65,
   "metadata": {},
   "outputs": [],
   "source": [
    "df_feat_train = df_feat_clean.iloc[:nsplit]\n",
    "df_targ_train = df_targ.iloc[:nsplit]\n",
    "df_feat_test = df_feat_clean.iloc[nsplit:]\n",
    "df_targ_test = df_targ.iloc[nsplit:]"
   ]
  },
  {
   "cell_type": "raw",
   "metadata": {},
   "source": [
    "# Create standardized, principal components\n",
    "std_pca_train = RunPCA(df_feat_train,50)\n",
    "std_pca_test = RunPCA(df_feat_test,50)"
   ]
  },
  {
   "cell_type": "markdown",
   "metadata": {},
   "source": [
    "#### Practice with PCA\n",
    "\n",
    "transform test with fit on train"
   ]
  },
  {
   "cell_type": "code",
   "execution_count": 83,
   "metadata": {},
   "outputs": [
    {
     "name": "stderr",
     "output_type": "stream",
     "text": [
      "/home/ec2-user/anaconda3/envs/python3/lib/python3.6/site-packages/sklearn/preprocessing/data.py:645: DataConversionWarning: Data with input dtype int64, float64 were all converted to float64 by StandardScaler.\n",
      "  return self.partial_fit(X, y)\n",
      "/home/ec2-user/anaconda3/envs/python3/lib/python3.6/site-packages/sklearn/base.py:464: DataConversionWarning: Data with input dtype int64, float64 were all converted to float64 by StandardScaler.\n",
      "  return self.fit(X, **fit_params).transform(X)\n",
      "/home/ec2-user/anaconda3/envs/python3/lib/python3.6/site-packages/sklearn/preprocessing/data.py:645: DataConversionWarning: Data with input dtype int64, float64 were all converted to float64 by StandardScaler.\n",
      "  return self.partial_fit(X, y)\n",
      "/home/ec2-user/anaconda3/envs/python3/lib/python3.6/site-packages/ipykernel/__main__.py:9: DataConversionWarning: Data with input dtype int64, float64 were all converted to float64 by StandardScaler.\n"
     ]
    }
   ],
   "source": [
    "X1 = df_feat_train\n",
    "X2 = df_feat_test\n",
    "\n",
    "# Create a scaler object\n",
    "sc = StandardScaler()\n",
    "\n",
    "# Fit the scaler to the features and transform\n",
    "X1_std = sc.fit_transform(X1)\n",
    "X2_std = sc.fit(X1).transform(X2)"
   ]
  },
  {
   "cell_type": "markdown",
   "metadata": {},
   "source": [
    "#### Tune n_components param"
   ]
  },
  {
   "cell_type": "code",
   "execution_count": 84,
   "metadata": {},
   "outputs": [
    {
     "name": "stdout",
     "output_type": "stream",
     "text": [
      "1   0.44689592209373097\n",
      "6   0.4583840535605599\n",
      "11   0.4844796104686549\n",
      "16   0.5079884357881924\n",
      "21   0.5053256238587949\n",
      "26   0.5416159464394401\n",
      "31   0.5477023737066342\n",
      "36   0.5840687766281193\n",
      "41   0.551049908703591\n",
      "46   0.585362142422398\n",
      "51   0.546941570298235\n",
      "56   0.5442787583688374\n",
      "61   0.5577449786975046\n",
      "66   0.5947200243457091\n",
      "71   0.546941570298235\n",
      "76   0.5651247717589775\n",
      "81   0.5752434570906878\n",
      "86   0.5737979306147292\n",
      "91   0.5785149117468047\n",
      "96   0.5435940353012781\n",
      "101   0.5489196591600731\n"
     ]
    }
   ],
   "source": [
    "scores = dict()\n",
    "\n",
    "for cnt in range(1,102,5):\n",
    "\n",
    "    # Create a pca object with the 2 components as a parameter\n",
    "    pca = decomposition.PCA(n_components=cnt)\n",
    "\n",
    "    # Fit the PCA and transform the data\n",
    "    X1_std_pca = pca.fit_transform(X1_std)\n",
    "    X2_std_pca = pca.fit(X1_std).transform(X2_std)\n",
    "\n",
    "    std_pca_train = X1_std_pca\n",
    "    std_pca_test = X2_std_pca\n",
    "\n",
    "    clf = RandomForestClassifier(n_estimators=1000, n_jobs=-1, random_state=1)\n",
    "    df_fit = clf.fit(std_pca_train, df_targ_train)\n",
    "    df_pred = df_fit.predict(std_pca_test)\n",
    "    score = roc_auc_score(df_targ_test, df_pred)\n",
    "    \n",
    "    # Append score to dict\n",
    "    scores[cnt] = score\n",
    "    \n",
    "    # Print for OCD\n",
    "    print(cnt,' ',score)"
   ]
  },
  {
   "cell_type": "code",
   "execution_count": 77,
   "metadata": {},
   "outputs": [
    {
     "name": "stdout",
     "output_type": "stream",
     "text": [
      "0\n",
      "10\n"
     ]
    }
   ],
   "source": [
    "for cnt in range(0,20,10):\n",
    "    print(cnt)"
   ]
  },
  {
   "cell_type": "code",
   "execution_count": 70,
   "metadata": {},
   "outputs": [],
   "source": [
    "scores = dict()\n",
    "for cnt in range(4):\n",
    "    scores[cnt] = cnt*4"
   ]
  },
  {
   "cell_type": "code",
   "execution_count": 71,
   "metadata": {},
   "outputs": [
    {
     "data": {
      "text/plain": [
       "{0: 0, 1: 4, 2: 8, 3: 12}"
      ]
     },
     "execution_count": 71,
     "metadata": {},
     "output_type": "execute_result"
    }
   ],
   "source": [
    "scores"
   ]
  },
  {
   "cell_type": "code",
   "execution_count": null,
   "metadata": {},
   "outputs": [],
   "source": []
  }
 ],
 "metadata": {
  "kernelspec": {
   "display_name": "conda_python3",
   "language": "python",
   "name": "conda_python3"
  },
  "language_info": {
   "codemirror_mode": {
    "name": "ipython",
    "version": 3
   },
   "file_extension": ".py",
   "mimetype": "text/x-python",
   "name": "python",
   "nbconvert_exporter": "python",
   "pygments_lexer": "ipython3",
   "version": "3.6.5"
  }
 },
 "nbformat": 4,
 "nbformat_minor": 4
}
