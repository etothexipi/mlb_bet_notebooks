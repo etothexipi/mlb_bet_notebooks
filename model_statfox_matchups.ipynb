{
 "cells": [
  {
   "cell_type": "markdown",
   "metadata": {},
   "source": [
    "# Explore and Model StatFox Matchup Data\n",
    "`mlb_bet_notebooks/model_statfox_matchups.ipynb`\n",
    "- Explore features\n",
    "- Convert historical moneylines to break-even probabilities\n",
    "- Model pre-computed features with RF and maybe PCA\n",
    "- Compare model predictions to historical moneylines\n",
    "    - Use break-even probabilities as alternative model and compare ROC\n",
    "- Try VIF filter\n",
    "- Try k-fold CV\n",
    "- Try grid search model complexity\n",
    "- Try to get player salary\n",
    "    - Combine with addition, subtraction from statfox blobs\n",
    "Jonathan Sims 2020-02-24"
   ]
  },
  {
   "cell_type": "code",
   "execution_count": 43,
   "metadata": {},
   "outputs": [],
   "source": [
    "import math\n",
    "import pandas as pd \n",
    "from sklearn.ensemble import RandomForestClassifier, AdaBoostClassifier\n",
    "from sklearn.metrics import roc_auc_score\n",
    "import numpy as np\n",
    "from sklearn import decomposition\n",
    "from sklearn.preprocessing import StandardScaler\n",
    "from sklearn.impute import SimpleImputer\n",
    "import random\n",
    "from sklearn.model_selection import train_test_split, GridSearchCV\n",
    "from sklearn import preprocessing"
   ]
  },
  {
   "cell_type": "code",
   "execution_count": 2,
   "metadata": {},
   "outputs": [],
   "source": [
    "file_in1 = '20200310.skr_statfox.2010-2018.0.7400.tsv.gz'\n",
    "file_in2 = '20200310.skr_statfox.2010-2018.7400.10000.tsv.gz'\n",
    "file_in3 = '20200310.skr_statfox.2010-2018.10000.12000.tsv.gz'\n",
    "file_in4 = '20200310.skr_statfox.2010-2018.12000.16000.tsv.gz'\n",
    "file_in5 = '20200310.skr_statfox.2010-2018.16000.20600.tsv.gz'\n",
    "file_in6 = '20200310.skr_statfox.2010-2018.20600.tsv.gz'"
   ]
  },
  {
   "cell_type": "markdown",
   "metadata": {},
   "source": [
    "### Import features, moneylines, target"
   ]
  },
  {
   "cell_type": "code",
   "execution_count": 3,
   "metadata": {},
   "outputs": [],
   "source": [
    "### Import chunks and append\n",
    "\n",
    "df1 = pd.read_csv(file_in1, sep='\\t', low_memory=False)\n",
    "df2 = pd.read_csv(file_in2, sep='\\t', low_memory=False)\n",
    "df3 = pd.read_csv(file_in3, sep='\\t', low_memory=False)\n",
    "df4 = pd.read_csv(file_in4, sep='\\t', low_memory=False)\n",
    "df5 = pd.read_csv(file_in5, sep='\\t', low_memory=False)\n",
    "df6 = pd.read_csv(file_in6, sep='\\t', low_memory=False)\n",
    "\n",
    "df = pd.concat([df1, df2, df3, df4, df5, df6], ignore_index=False, sort=True)"
   ]
  },
  {
   "cell_type": "code",
   "execution_count": 4,
   "metadata": {},
   "outputs": [],
   "source": [
    "### Clear useless dataframes\n",
    "\n",
    "df1 = []\n",
    "df2 = []\n",
    "df3 = []\n",
    "df4 = []\n",
    "df5 = []\n",
    "df6 = []"
   ]
  },
  {
   "cell_type": "code",
   "execution_count": 5,
   "metadata": {},
   "outputs": [],
   "source": [
    "### Give proper name to the match index\n",
    "\n",
    "df['matchidx'] = df['Unnamed: 0']\n",
    "df = df.drop(['Unnamed: 0'], axis=1)"
   ]
  },
  {
   "cell_type": "code",
   "execution_count": 6,
   "metadata": {},
   "outputs": [
    {
     "data": {
      "text/plain": [
       "(17632, 590)"
      ]
     },
     "execution_count": 6,
     "metadata": {},
     "output_type": "execute_result"
    }
   ],
   "source": [
    "df.shape"
   ]
  },
  {
   "cell_type": "code",
   "execution_count": 7,
   "metadata": {},
   "outputs": [
    {
     "data": {
      "text/html": [
       "<div>\n",
       "<style scoped>\n",
       "    .dataframe tbody tr th:only-of-type {\n",
       "        vertical-align: middle;\n",
       "    }\n",
       "\n",
       "    .dataframe tbody tr th {\n",
       "        vertical-align: top;\n",
       "    }\n",
       "\n",
       "    .dataframe thead th {\n",
       "        text-align: right;\n",
       "    }\n",
       "</style>\n",
       "<table border=\"1\" class=\"dataframe\">\n",
       "  <thead>\n",
       "    <tr style=\"text-align: right;\">\n",
       "      <th></th>\n",
       "      <th>H_Bullpen_BB_AllGames</th>\n",
       "      <th>H_Bullpen_BB_HomeGames</th>\n",
       "      <th>H_Bullpen_BSV_AllGames</th>\n",
       "      <th>H_Bullpen_BSV_HomeGames</th>\n",
       "      <th>H_Bullpen_ERA_AllGames</th>\n",
       "      <th>H_Bullpen_ERA_HomeGames</th>\n",
       "      <th>H_Bullpen_ER_AllGames</th>\n",
       "      <th>H_Bullpen_ER_HomeGames</th>\n",
       "      <th>H_Bullpen_HR_AllGames</th>\n",
       "      <th>H_Bullpen_HR_HomeGames</th>\n",
       "      <th>...</th>\n",
       "      <th>V__Latest_Line</th>\n",
       "      <th>V__Latest_Total</th>\n",
       "      <th>V__Opening_Line</th>\n",
       "      <th>V__Opening_Total</th>\n",
       "      <th>sc_h</th>\n",
       "      <th>sc_v</th>\n",
       "      <th>tm_h</th>\n",
       "      <th>tm_v</th>\n",
       "      <th>win_h</th>\n",
       "      <th>matchidx</th>\n",
       "    </tr>\n",
       "  </thead>\n",
       "  <tbody>\n",
       "    <tr>\n",
       "      <th>1262</th>\n",
       "      <td>221</td>\n",
       "      <td>105</td>\n",
       "      <td>27</td>\n",
       "      <td>10</td>\n",
       "      <td>4.51</td>\n",
       "      <td>4.22</td>\n",
       "      <td>303</td>\n",
       "      <td>142</td>\n",
       "      <td>89</td>\n",
       "      <td>39</td>\n",
       "      <td>...</td>\n",
       "      <td>+120</td>\n",
       "      <td>Ov 9,-105</td>\n",
       "      <td>+135</td>\n",
       "      <td>Ov 9,-110</td>\n",
       "      <td>5</td>\n",
       "      <td>4</td>\n",
       "      <td>MINNESOTA</td>\n",
       "      <td>CHIWHITESOX</td>\n",
       "      <td>1</td>\n",
       "      <td>20180930926925</td>\n",
       "    </tr>\n",
       "    <tr>\n",
       "      <th>1263</th>\n",
       "      <td>174</td>\n",
       "      <td>94</td>\n",
       "      <td>21</td>\n",
       "      <td>12</td>\n",
       "      <td>3.79</td>\n",
       "      <td>3.58</td>\n",
       "      <td>233</td>\n",
       "      <td>114</td>\n",
       "      <td>67</td>\n",
       "      <td>42</td>\n",
       "      <td>...</td>\n",
       "      <td>+155</td>\n",
       "      <td>Ov 8.5,-110</td>\n",
       "      <td>+155</td>\n",
       "      <td>Ov 8.5,-120</td>\n",
       "      <td>3</td>\n",
       "      <td>1</td>\n",
       "      <td>SEATTLE</td>\n",
       "      <td>TEXAS</td>\n",
       "      <td>1</td>\n",
       "      <td>20180930922921</td>\n",
       "    </tr>\n",
       "    <tr>\n",
       "      <th>1264</th>\n",
       "      <td>285</td>\n",
       "      <td>139</td>\n",
       "      <td>18</td>\n",
       "      <td>7</td>\n",
       "      <td>3.81</td>\n",
       "      <td>3.25</td>\n",
       "      <td>347</td>\n",
       "      <td>156</td>\n",
       "      <td>88</td>\n",
       "      <td>44</td>\n",
       "      <td>...</td>\n",
       "      <td>+150</td>\n",
       "      <td>Ov 8,-115</td>\n",
       "      <td>+150</td>\n",
       "      <td>Ov 8,-115</td>\n",
       "      <td>9</td>\n",
       "      <td>4</td>\n",
       "      <td>TAMPABAY</td>\n",
       "      <td>TORONTO</td>\n",
       "      <td>1</td>\n",
       "      <td>20180930924923</td>\n",
       "    </tr>\n",
       "    <tr>\n",
       "      <th>1265</th>\n",
       "      <td>273</td>\n",
       "      <td>137</td>\n",
       "      <td>18</td>\n",
       "      <td>10</td>\n",
       "      <td>3.34</td>\n",
       "      <td>3.76</td>\n",
       "      <td>217</td>\n",
       "      <td>121</td>\n",
       "      <td>51</td>\n",
       "      <td>29</td>\n",
       "      <td>...</td>\n",
       "      <td>+115</td>\n",
       "      <td>Ov 8,-115</td>\n",
       "      <td>+115</td>\n",
       "      <td>Ov 8,-115</td>\n",
       "      <td>1</td>\n",
       "      <td>3</td>\n",
       "      <td>CHICAGOCUBS</td>\n",
       "      <td>MILWAUKEE</td>\n",
       "      <td>0</td>\n",
       "      <td>20181001952951</td>\n",
       "    </tr>\n",
       "    <tr>\n",
       "      <th>1266</th>\n",
       "      <td>198</td>\n",
       "      <td>85</td>\n",
       "      <td>26</td>\n",
       "      <td>11</td>\n",
       "      <td>3.70</td>\n",
       "      <td>3.77</td>\n",
       "      <td>238</td>\n",
       "      <td>117</td>\n",
       "      <td>73</td>\n",
       "      <td>39</td>\n",
       "      <td>...</td>\n",
       "      <td>+150</td>\n",
       "      <td>Ov 7,-105</td>\n",
       "      <td>+155</td>\n",
       "      <td>Ov 7,-105</td>\n",
       "      <td>5</td>\n",
       "      <td>2</td>\n",
       "      <td>LADODGERS</td>\n",
       "      <td>COLORADO</td>\n",
       "      <td>1</td>\n",
       "      <td>20181001954953</td>\n",
       "    </tr>\n",
       "  </tbody>\n",
       "</table>\n",
       "<p>5 rows × 590 columns</p>\n",
       "</div>"
      ],
      "text/plain": [
       "      H_Bullpen_BB_AllGames  H_Bullpen_BB_HomeGames  H_Bullpen_BSV_AllGames  \\\n",
       "1262                    221                     105                      27   \n",
       "1263                    174                      94                      21   \n",
       "1264                    285                     139                      18   \n",
       "1265                    273                     137                      18   \n",
       "1266                    198                      85                      26   \n",
       "\n",
       "      H_Bullpen_BSV_HomeGames  H_Bullpen_ERA_AllGames  \\\n",
       "1262                       10                    4.51   \n",
       "1263                       12                    3.79   \n",
       "1264                        7                    3.81   \n",
       "1265                       10                    3.34   \n",
       "1266                       11                    3.70   \n",
       "\n",
       "      H_Bullpen_ERA_HomeGames  H_Bullpen_ER_AllGames  H_Bullpen_ER_HomeGames  \\\n",
       "1262                     4.22                    303                     142   \n",
       "1263                     3.58                    233                     114   \n",
       "1264                     3.25                    347                     156   \n",
       "1265                     3.76                    217                     121   \n",
       "1266                     3.77                    238                     117   \n",
       "\n",
       "      H_Bullpen_HR_AllGames  H_Bullpen_HR_HomeGames  ...  V__Latest_Line  \\\n",
       "1262                     89                      39  ...            +120   \n",
       "1263                     67                      42  ...            +155   \n",
       "1264                     88                      44  ...            +150   \n",
       "1265                     51                      29  ...            +115   \n",
       "1266                     73                      39  ...            +150   \n",
       "\n",
       "      V__Latest_Total  V__Opening_Line  V__Opening_Total  sc_h  sc_v  \\\n",
       "1262        Ov 9,-105             +135         Ov 9,-110     5     4   \n",
       "1263      Ov 8.5,-110             +155       Ov 8.5,-120     3     1   \n",
       "1264        Ov 8,-115             +150         Ov 8,-115     9     4   \n",
       "1265        Ov 8,-115             +115         Ov 8,-115     1     3   \n",
       "1266        Ov 7,-105             +155         Ov 7,-105     5     2   \n",
       "\n",
       "             tm_h         tm_v  win_h        matchidx  \n",
       "1262    MINNESOTA  CHIWHITESOX      1  20180930926925  \n",
       "1263      SEATTLE        TEXAS      1  20180930922921  \n",
       "1264     TAMPABAY      TORONTO      1  20180930924923  \n",
       "1265  CHICAGOCUBS    MILWAUKEE      0  20181001952951  \n",
       "1266    LADODGERS     COLORADO      1  20181001954953  \n",
       "\n",
       "[5 rows x 590 columns]"
      ]
     },
     "execution_count": 7,
     "metadata": {},
     "output_type": "execute_result"
    }
   ],
   "source": [
    "df.tail()"
   ]
  },
  {
   "cell_type": "markdown",
   "metadata": {},
   "source": [
    "### Clean up OU Totals, OSB, and DP features\n",
    "- This should really be in skr_statfox_matchups.ipynb "
   ]
  },
  {
   "cell_type": "code",
   "execution_count": 8,
   "metadata": {},
   "outputs": [
    {
     "data": {
      "text/html": [
       "<div>\n",
       "<style scoped>\n",
       "    .dataframe tbody tr th:only-of-type {\n",
       "        vertical-align: middle;\n",
       "    }\n",
       "\n",
       "    .dataframe tbody tr th {\n",
       "        vertical-align: top;\n",
       "    }\n",
       "\n",
       "    .dataframe thead th {\n",
       "        text-align: right;\n",
       "    }\n",
       "</style>\n",
       "<table border=\"1\" class=\"dataframe\">\n",
       "  <thead>\n",
       "    <tr style=\"text-align: right;\">\n",
       "      <th></th>\n",
       "      <th>H__Latest_Tot</th>\n",
       "      <th>H__Latest_TotLn</th>\n",
       "      <th>H__Opening_Tot</th>\n",
       "      <th>H__Opening_TotLn</th>\n",
       "      <th>V__Latest_Tot</th>\n",
       "      <th>V__Latest_TotLn</th>\n",
       "      <th>V__Opening_Tot</th>\n",
       "      <th>V__Opening_TotLn</th>\n",
       "    </tr>\n",
       "  </thead>\n",
       "  <tbody>\n",
       "    <tr>\n",
       "      <th>0</th>\n",
       "      <td>8.5</td>\n",
       "      <td>-105</td>\n",
       "      <td>8.5</td>\n",
       "      <td>-105</td>\n",
       "      <td>8.5</td>\n",
       "      <td>-115</td>\n",
       "      <td>8.5</td>\n",
       "      <td>-115</td>\n",
       "    </tr>\n",
       "    <tr>\n",
       "      <th>1</th>\n",
       "      <td>9</td>\n",
       "      <td>-115</td>\n",
       "      <td>9</td>\n",
       "      <td>-115</td>\n",
       "      <td>9</td>\n",
       "      <td>-105</td>\n",
       "      <td>9</td>\n",
       "      <td>-105</td>\n",
       "    </tr>\n",
       "    <tr>\n",
       "      <th>2</th>\n",
       "      <td>7</td>\n",
       "      <td>-110</td>\n",
       "      <td>7</td>\n",
       "      <td>-110</td>\n",
       "      <td>7</td>\n",
       "      <td>-110</td>\n",
       "      <td>7</td>\n",
       "      <td>-110</td>\n",
       "    </tr>\n",
       "    <tr>\n",
       "      <th>3</th>\n",
       "      <td>7</td>\n",
       "      <td>+105</td>\n",
       "      <td>7</td>\n",
       "      <td>+105</td>\n",
       "      <td>7</td>\n",
       "      <td>-125</td>\n",
       "      <td>7</td>\n",
       "      <td>-125</td>\n",
       "    </tr>\n",
       "    <tr>\n",
       "      <th>4</th>\n",
       "      <td>9</td>\n",
       "      <td>-115</td>\n",
       "      <td>9.5</td>\n",
       "      <td>-120</td>\n",
       "      <td>9</td>\n",
       "      <td>-105</td>\n",
       "      <td>9.5</td>\n",
       "      <td>+100</td>\n",
       "    </tr>\n",
       "  </tbody>\n",
       "</table>\n",
       "</div>"
      ],
      "text/plain": [
       "  H__Latest_Tot H__Latest_TotLn H__Opening_Tot H__Opening_TotLn V__Latest_Tot  \\\n",
       "0           8.5            -105            8.5             -105           8.5   \n",
       "1             9            -115              9             -115             9   \n",
       "2             7            -110              7             -110             7   \n",
       "3             7            +105              7             +105             7   \n",
       "4             9            -115            9.5             -120             9   \n",
       "\n",
       "  V__Latest_TotLn V__Opening_Tot V__Opening_TotLn  \n",
       "0            -115            8.5             -115  \n",
       "1            -105              9             -105  \n",
       "2            -110              7             -110  \n",
       "3            -125              7             -125  \n",
       "4            -105            9.5             +100  "
      ]
     },
     "execution_count": 8,
     "metadata": {},
     "output_type": "execute_result"
    }
   ],
   "source": [
    "### Split by a comma then drop Ov and Un text\n",
    "\n",
    "ou_cols = [col for col in df.columns if '_Total' in col]\n",
    "\n",
    "if ou_cols != []:\n",
    "    for x in ou_cols:\n",
    "        xO = x.replace('_Total', '_Tot')\n",
    "        xU = x.replace('_Total', '_TotLn')\n",
    "        \n",
    "        df[[xO,xU]] = df[x].str.split(\",\", expand=True)    \n",
    "        df[xO] = df[xO].str.replace(\"Ov \",\"\")\n",
    "        df[xO] = df[xO].str.replace(\"Un \",\"\")\n",
    "        df = df.drop(x, axis=1)\n",
    "    \n",
    "new_ou_cols = [col for col in df.columns if '_Tot' in col]    \n",
    "df[new_ou_cols].head()"
   ]
  },
  {
   "cell_type": "code",
   "execution_count": 9,
   "metadata": {},
   "outputs": [
    {
     "data": {
      "text/html": [
       "<div>\n",
       "<style scoped>\n",
       "    .dataframe tbody tr th:only-of-type {\n",
       "        vertical-align: middle;\n",
       "    }\n",
       "\n",
       "    .dataframe tbody tr th {\n",
       "        vertical-align: top;\n",
       "    }\n",
       "\n",
       "    .dataframe thead th {\n",
       "        text-align: right;\n",
       "    }\n",
       "</style>\n",
       "<table border=\"1\" class=\"dataframe\">\n",
       "  <thead>\n",
       "    <tr style=\"text-align: right;\">\n",
       "      <th></th>\n",
       "      <th>H_HitField_TeamFielding_OSB_AllGames</th>\n",
       "      <th>H_HitField_TeamFielding_OSB_HomeGames</th>\n",
       "      <th>H_HitField_TeamFielding_OSB_LeftyStarters</th>\n",
       "      <th>H_HitField_TeamFielding_OSB_RightyStarters</th>\n",
       "      <th>V_HitField_TeamFielding_OSB_AllGames</th>\n",
       "      <th>V_HitField_TeamFielding_OSB_LeftyStarters</th>\n",
       "      <th>V_HitField_TeamFielding_OSB_RightyStarters</th>\n",
       "      <th>V_HitField_TeamFielding_OSB_RoadGames</th>\n",
       "      <th>H_HitField_TeamFielding_DP_AllGames</th>\n",
       "      <th>H_HitField_TeamFielding_DP_HomeGames</th>\n",
       "      <th>H_HitField_TeamFielding_DP_LeftyStarters</th>\n",
       "      <th>H_HitField_TeamFielding_DP_RightyStarters</th>\n",
       "      <th>V_HitField_TeamFielding_DP_AllGames</th>\n",
       "      <th>V_HitField_TeamFielding_DP_LeftyStarters</th>\n",
       "      <th>V_HitField_TeamFielding_DP_RightyStarters</th>\n",
       "      <th>V_HitField_TeamFielding_DP_RoadGames</th>\n",
       "    </tr>\n",
       "  </thead>\n",
       "  <tbody>\n",
       "    <tr>\n",
       "      <th>0</th>\n",
       "      <td>129</td>\n",
       "      <td>64</td>\n",
       "      <td>NaN</td>\n",
       "      <td>90</td>\n",
       "      <td>104</td>\n",
       "      <td>NaN</td>\n",
       "      <td>70</td>\n",
       "      <td>37</td>\n",
       "      <td>182</td>\n",
       "      <td>94</td>\n",
       "      <td>NaN</td>\n",
       "      <td>114</td>\n",
       "      <td>138</td>\n",
       "      <td>NaN</td>\n",
       "      <td>77</td>\n",
       "      <td>67</td>\n",
       "    </tr>\n",
       "    <tr>\n",
       "      <th>1</th>\n",
       "      <td>124</td>\n",
       "      <td>66</td>\n",
       "      <td>NaN</td>\n",
       "      <td>88</td>\n",
       "      <td>111</td>\n",
       "      <td>31</td>\n",
       "      <td>NaN</td>\n",
       "      <td>58</td>\n",
       "      <td>157</td>\n",
       "      <td>77</td>\n",
       "      <td>NaN</td>\n",
       "      <td>103</td>\n",
       "      <td>170</td>\n",
       "      <td>32</td>\n",
       "      <td>NaN</td>\n",
       "      <td>82</td>\n",
       "    </tr>\n",
       "    <tr>\n",
       "      <th>2</th>\n",
       "      <td>108</td>\n",
       "      <td>47</td>\n",
       "      <td>NaN</td>\n",
       "      <td>78</td>\n",
       "      <td>86</td>\n",
       "      <td>NaN</td>\n",
       "      <td>61</td>\n",
       "      <td>45</td>\n",
       "      <td>160</td>\n",
       "      <td>98</td>\n",
       "      <td>NaN</td>\n",
       "      <td>96</td>\n",
       "      <td>164</td>\n",
       "      <td>NaN</td>\n",
       "      <td>112</td>\n",
       "      <td>88</td>\n",
       "    </tr>\n",
       "    <tr>\n",
       "      <th>3</th>\n",
       "      <td>86</td>\n",
       "      <td>40</td>\n",
       "      <td>NaN</td>\n",
       "      <td>59</td>\n",
       "      <td>65</td>\n",
       "      <td>NaN</td>\n",
       "      <td>46</td>\n",
       "      <td>26</td>\n",
       "      <td>155</td>\n",
       "      <td>78</td>\n",
       "      <td>NaN</td>\n",
       "      <td>104</td>\n",
       "      <td>150</td>\n",
       "      <td>NaN</td>\n",
       "      <td>98</td>\n",
       "      <td>68</td>\n",
       "    </tr>\n",
       "    <tr>\n",
       "      <th>4</th>\n",
       "      <td>97</td>\n",
       "      <td>50</td>\n",
       "      <td>NaN</td>\n",
       "      <td>62</td>\n",
       "      <td>87</td>\n",
       "      <td>NaN</td>\n",
       "      <td>58</td>\n",
       "      <td>48</td>\n",
       "      <td>168</td>\n",
       "      <td>97</td>\n",
       "      <td>NaN</td>\n",
       "      <td>109</td>\n",
       "      <td>168</td>\n",
       "      <td>NaN</td>\n",
       "      <td>112</td>\n",
       "      <td>83</td>\n",
       "    </tr>\n",
       "  </tbody>\n",
       "</table>\n",
       "</div>"
      ],
      "text/plain": [
       "  H_HitField_TeamFielding_OSB_AllGames H_HitField_TeamFielding_OSB_HomeGames  \\\n",
       "0                                  129                                    64   \n",
       "1                                  124                                    66   \n",
       "2                                  108                                    47   \n",
       "3                                   86                                    40   \n",
       "4                                   97                                    50   \n",
       "\n",
       "  H_HitField_TeamFielding_OSB_LeftyStarters  \\\n",
       "0                                       NaN   \n",
       "1                                       NaN   \n",
       "2                                       NaN   \n",
       "3                                       NaN   \n",
       "4                                       NaN   \n",
       "\n",
       "  H_HitField_TeamFielding_OSB_RightyStarters  \\\n",
       "0                                         90   \n",
       "1                                         88   \n",
       "2                                         78   \n",
       "3                                         59   \n",
       "4                                         62   \n",
       "\n",
       "  V_HitField_TeamFielding_OSB_AllGames  \\\n",
       "0                                  104   \n",
       "1                                  111   \n",
       "2                                   86   \n",
       "3                                   65   \n",
       "4                                   87   \n",
       "\n",
       "  V_HitField_TeamFielding_OSB_LeftyStarters  \\\n",
       "0                                       NaN   \n",
       "1                                        31   \n",
       "2                                       NaN   \n",
       "3                                       NaN   \n",
       "4                                       NaN   \n",
       "\n",
       "  V_HitField_TeamFielding_OSB_RightyStarters  \\\n",
       "0                                         70   \n",
       "1                                        NaN   \n",
       "2                                         61   \n",
       "3                                         46   \n",
       "4                                         58   \n",
       "\n",
       "  V_HitField_TeamFielding_OSB_RoadGames H_HitField_TeamFielding_DP_AllGames  \\\n",
       "0                                    37                                 182   \n",
       "1                                    58                                 157   \n",
       "2                                    45                                 160   \n",
       "3                                    26                                 155   \n",
       "4                                    48                                 168   \n",
       "\n",
       "  H_HitField_TeamFielding_DP_HomeGames  \\\n",
       "0                                   94   \n",
       "1                                   77   \n",
       "2                                   98   \n",
       "3                                   78   \n",
       "4                                   97   \n",
       "\n",
       "  H_HitField_TeamFielding_DP_LeftyStarters  \\\n",
       "0                                      NaN   \n",
       "1                                      NaN   \n",
       "2                                      NaN   \n",
       "3                                      NaN   \n",
       "4                                      NaN   \n",
       "\n",
       "  H_HitField_TeamFielding_DP_RightyStarters  \\\n",
       "0                                       114   \n",
       "1                                       103   \n",
       "2                                        96   \n",
       "3                                       104   \n",
       "4                                       109   \n",
       "\n",
       "  V_HitField_TeamFielding_DP_AllGames  \\\n",
       "0                                 138   \n",
       "1                                 170   \n",
       "2                                 164   \n",
       "3                                 150   \n",
       "4                                 168   \n",
       "\n",
       "  V_HitField_TeamFielding_DP_LeftyStarters  \\\n",
       "0                                      NaN   \n",
       "1                                       32   \n",
       "2                                      NaN   \n",
       "3                                      NaN   \n",
       "4                                      NaN   \n",
       "\n",
       "  V_HitField_TeamFielding_DP_RightyStarters  \\\n",
       "0                                        77   \n",
       "1                                       NaN   \n",
       "2                                       112   \n",
       "3                                        98   \n",
       "4                                       112   \n",
       "\n",
       "  V_HitField_TeamFielding_DP_RoadGames  \n",
       "0                                   67  \n",
       "1                                   82  \n",
       "2                                   88  \n",
       "3                                   68  \n",
       "4                                   83  "
      ]
     },
     "execution_count": 9,
     "metadata": {},
     "output_type": "execute_result"
    }
   ],
   "source": [
    "### Remove parantheses from numeric values\n",
    "\n",
    "osb_cols = [col for col in df.columns if '_OSB_' in col]\n",
    "dp_cols = [col for col in df.columns if '_DP_' in col]\n",
    "paren_cols = osb_cols + dp_cols\n",
    "\n",
    "if paren_cols != []:\n",
    "    for x in paren_cols:\n",
    "        df[x] = df[x].str.replace(\"(\",\"\")\n",
    "        df[x] = df[x].str.replace(\")\",\"\")\n",
    "        \n",
    "df[paren_cols].head()        "
   ]
  },
  {
   "cell_type": "code",
   "execution_count": 10,
   "metadata": {},
   "outputs": [
    {
     "data": {
      "text/html": [
       "<div>\n",
       "<style scoped>\n",
       "    .dataframe tbody tr th:only-of-type {\n",
       "        vertical-align: middle;\n",
       "    }\n",
       "\n",
       "    .dataframe tbody tr th {\n",
       "        vertical-align: top;\n",
       "    }\n",
       "\n",
       "    .dataframe thead th {\n",
       "        text-align: right;\n",
       "    }\n",
       "</style>\n",
       "<table border=\"1\" class=\"dataframe\">\n",
       "  <thead>\n",
       "    <tr style=\"text-align: right;\">\n",
       "      <th></th>\n",
       "      <th>H_Bullpen_Pct_AllGames</th>\n",
       "      <th>H_Bullpen_Pct_HomeGames</th>\n",
       "      <th>V_Bullpen_Pct_AllGames</th>\n",
       "      <th>V_Bullpen_Pct_RoadGames</th>\n",
       "    </tr>\n",
       "  </thead>\n",
       "  <tbody>\n",
       "    <tr>\n",
       "      <th>0</th>\n",
       "      <td>76.1</td>\n",
       "      <td>73.5</td>\n",
       "      <td>73.8</td>\n",
       "      <td>79.3</td>\n",
       "    </tr>\n",
       "    <tr>\n",
       "      <th>1</th>\n",
       "      <td>66.7</td>\n",
       "      <td>68</td>\n",
       "      <td>58.1</td>\n",
       "      <td>53.6</td>\n",
       "    </tr>\n",
       "    <tr>\n",
       "      <th>2</th>\n",
       "      <td>60.7</td>\n",
       "      <td>57.7</td>\n",
       "      <td>65.6</td>\n",
       "      <td>58.1</td>\n",
       "    </tr>\n",
       "    <tr>\n",
       "      <th>3</th>\n",
       "      <td>76</td>\n",
       "      <td>77.3</td>\n",
       "      <td>63.6</td>\n",
       "      <td>60</td>\n",
       "    </tr>\n",
       "    <tr>\n",
       "      <th>4</th>\n",
       "      <td>78.9</td>\n",
       "      <td>82.8</td>\n",
       "      <td>62.5</td>\n",
       "      <td>68.4</td>\n",
       "    </tr>\n",
       "  </tbody>\n",
       "</table>\n",
       "</div>"
      ],
      "text/plain": [
       "  H_Bullpen_Pct_AllGames H_Bullpen_Pct_HomeGames V_Bullpen_Pct_AllGames  \\\n",
       "0                   76.1                    73.5                   73.8   \n",
       "1                   66.7                      68                   58.1   \n",
       "2                   60.7                    57.7                   65.6   \n",
       "3                     76                    77.3                   63.6   \n",
       "4                   78.9                    82.8                   62.5   \n",
       "\n",
       "  V_Bullpen_Pct_RoadGames  \n",
       "0                    79.3  \n",
       "1                    53.6  \n",
       "2                    58.1  \n",
       "3                      60  \n",
       "4                    68.4  "
      ]
     },
     "execution_count": 10,
     "metadata": {},
     "output_type": "execute_result"
    }
   ],
   "source": [
    "### Remove percent signs\n",
    "\n",
    "perc = [col for col in df.columns if '_Pct_' in col]\n",
    "\n",
    "if perc != []:\n",
    "    for x in perc:\n",
    "        df[x] = df[x].str.replace(\"%\",\"\")\n",
    "        df[x] = df[x].str.replace(\" \",\"\")\n",
    "\n",
    "df[perc].head()"
   ]
  },
  {
   "cell_type": "markdown",
   "metadata": {},
   "source": [
    "### Dedupe on matchup index (YYYYMMDDHHHVVV)"
   ]
  },
  {
   "cell_type": "code",
   "execution_count": 11,
   "metadata": {},
   "outputs": [],
   "source": [
    "df = df.drop_duplicates(['matchidx'])"
   ]
  },
  {
   "cell_type": "code",
   "execution_count": 12,
   "metadata": {},
   "outputs": [
    {
     "data": {
      "text/plain": [
       "(17573, 594)"
      ]
     },
     "execution_count": 12,
     "metadata": {},
     "output_type": "execute_result"
    }
   ],
   "source": [
    "df.shape"
   ]
  },
  {
   "cell_type": "markdown",
   "metadata": {},
   "source": [
    "### Separate features and targets"
   ]
  },
  {
   "cell_type": "code",
   "execution_count": 13,
   "metadata": {},
   "outputs": [
    {
     "data": {
      "text/plain": [
       "['H__Latest_Line', 'V__Latest_Line', 'sc_h', 'sc_v', 'win_h']"
      ]
     },
     "execution_count": 13,
     "metadata": {},
     "output_type": "execute_result"
    }
   ],
   "source": [
    "lines = [col for col in df.columns if 'Latest_Line' in col]\n",
    "teams = ['tm_h', 'tm_v']\n",
    "scores = ['sc_h','sc_v']\n",
    "feats = ['win_h']\n",
    "# drop = pd.concat([lines, totals, scores, feats])\n",
    "drop = lines+scores+feats\n",
    "drop"
   ]
  },
  {
   "cell_type": "code",
   "execution_count": 14,
   "metadata": {},
   "outputs": [],
   "source": [
    "df_feat = df.drop(drop, axis=1).reset_index(drop=True)\n",
    "df_targ = pd.to_numeric(df['win_h'], errors='coerce').reset_index(drop=True)\n",
    "df_openline = pd.to_numeric(df['H__Opening_Line'], errors='coerce').reset_index(drop=True)\n",
    "df_lateline = pd.to_numeric(df['H__Latest_Line'], errors='coerce').reset_index(drop=True)"
   ]
  },
  {
   "cell_type": "markdown",
   "metadata": {},
   "source": [
    "### Add year and month variable"
   ]
  },
  {
   "cell_type": "code",
   "execution_count": 15,
   "metadata": {},
   "outputs": [],
   "source": [
    "def get_month(x):\n",
    "    \"\"\"Take match index YYYYMMDDHHHVVV and return the month of game\n",
    "    \"\"\"\n",
    "    flr = math.floor(x/100000000)\n",
    "    flrmod = flr%100\n",
    "    return str(flrmod)\n",
    "\n",
    "def get_year(x):\n",
    "    \"\"\"Take match index YYYYMMDDHHHVVV and return the year of game\n",
    "    \"\"\"\n",
    "    flr = math.floor(x/10000000000)\n",
    "    return str(flr)"
   ]
  },
  {
   "cell_type": "code",
   "execution_count": 16,
   "metadata": {},
   "outputs": [],
   "source": [
    "df_feat['month'] = df_feat['matchidx'].apply(get_month)\n",
    "df_feat['year'] = df_feat['matchidx'].apply(get_year)"
   ]
  },
  {
   "cell_type": "code",
   "execution_count": 17,
   "metadata": {},
   "outputs": [
    {
     "data": {
      "text/plain": [
       "(17573, 591)"
      ]
     },
     "execution_count": 17,
     "metadata": {},
     "output_type": "execute_result"
    }
   ],
   "source": [
    "df_feat.shape"
   ]
  },
  {
   "cell_type": "code",
   "execution_count": 18,
   "metadata": {},
   "outputs": [
    {
     "data": {
      "text/html": [
       "<div>\n",
       "<style scoped>\n",
       "    .dataframe tbody tr th:only-of-type {\n",
       "        vertical-align: middle;\n",
       "    }\n",
       "\n",
       "    .dataframe tbody tr th {\n",
       "        vertical-align: top;\n",
       "    }\n",
       "\n",
       "    .dataframe thead th {\n",
       "        text-align: right;\n",
       "    }\n",
       "</style>\n",
       "<table border=\"1\" class=\"dataframe\">\n",
       "  <thead>\n",
       "    <tr style=\"text-align: right;\">\n",
       "      <th></th>\n",
       "      <th>matchidx</th>\n",
       "      <th>year</th>\n",
       "      <th>month</th>\n",
       "    </tr>\n",
       "  </thead>\n",
       "  <tbody>\n",
       "    <tr>\n",
       "      <th>0</th>\n",
       "      <td>20100405924923</td>\n",
       "      <td>2010</td>\n",
       "      <td>4</td>\n",
       "    </tr>\n",
       "    <tr>\n",
       "      <th>1</th>\n",
       "      <td>20100405918917</td>\n",
       "      <td>2010</td>\n",
       "      <td>4</td>\n",
       "    </tr>\n",
       "    <tr>\n",
       "      <th>2</th>\n",
       "      <td>20100405922921</td>\n",
       "      <td>2010</td>\n",
       "      <td>4</td>\n",
       "    </tr>\n",
       "    <tr>\n",
       "      <th>3</th>\n",
       "      <td>20100405926925</td>\n",
       "      <td>2010</td>\n",
       "      <td>4</td>\n",
       "    </tr>\n",
       "    <tr>\n",
       "      <th>4</th>\n",
       "      <td>20100405920919</td>\n",
       "      <td>2010</td>\n",
       "      <td>4</td>\n",
       "    </tr>\n",
       "  </tbody>\n",
       "</table>\n",
       "</div>"
      ],
      "text/plain": [
       "         matchidx  year month\n",
       "0  20100405924923  2010     4\n",
       "1  20100405918917  2010     4\n",
       "2  20100405922921  2010     4\n",
       "3  20100405926925  2010     4\n",
       "4  20100405920919  2010     4"
      ]
     },
     "execution_count": 18,
     "metadata": {},
     "output_type": "execute_result"
    }
   ],
   "source": [
    "df_feat[['matchidx','year','month']].head()"
   ]
  },
  {
   "cell_type": "markdown",
   "metadata": {},
   "source": [
    "### Final Clean\n",
    "- Try to convert object to numeric\n",
    "- If except: convert object to binary dummies"
   ]
  },
  {
   "cell_type": "code",
   "execution_count": 19,
   "metadata": {},
   "outputs": [],
   "source": [
    "def preprocess_tonumeric(x):\n",
    "    \"\"\"Clean features to get everything numeric.\n",
    "    1) Strip percent sign, space, and commas\n",
    "    2) Convert objects to numeric if possible\n",
    "    3) Else, convert objects to dummies\n",
    "    \"\"\"\n",
    "#     output = pd.DataFrame()\n",
    "    \n",
    "    for col, col_data in x.iteritems():\n",
    "        \n",
    "        if col_data.dtype == object:\n",
    "        \n",
    "            try:\n",
    "                col_data = pd.to_numeric(col_data)\n",
    "                x = x.drop(col, axis=1)\n",
    "                \n",
    "            except:\n",
    "                col_data = pd.get_dummies(col_data, prefix=col)\n",
    "                x = x.drop(col, axis=1)\n",
    "            \n",
    "        x = pd.concat([x, col_data], axis=1)\n",
    "    \n",
    "    ### Keep first of all columns then drop duplicates\n",
    "\n",
    "    Cols = list(x.columns)\n",
    "    for i,item in enumerate(x.columns):\n",
    "        if item in x.columns[:i]: Cols[i] = \"toDROP\"\n",
    "    x.columns = Cols\n",
    "    x = x.drop(\"toDROP\",1)\n",
    "    \n",
    "    return x"
   ]
  },
  {
   "cell_type": "markdown",
   "metadata": {},
   "source": [
    "### Impute missing values and create dummy for missing"
   ]
  },
  {
   "cell_type": "code",
   "execution_count": 20,
   "metadata": {},
   "outputs": [],
   "source": [
    "# def preprocess_nan(x, fill_strategy='mean'):\n",
    "def preprocess_nan(z):\n",
    "    \"\"\"Process NaNs in a dataframe to prepare for RF or other model.\n",
    "    1) Creates dummy columns for each existing column with > 1 NaN\n",
    "    2) Fill NaN in existing column with desired strategy (see scikit SimpleImputer)\n",
    "    \"\"\"\n",
    "    for col in z.columns:\n",
    "        if z[col].isnull().any().any():\n",
    "            nancol = col+'_NaN'\n",
    "            z[nancol] = [1 if s == True else 0 for s in z[col].isnull()]\n",
    "        \n",
    "    imp = SimpleImputer(missing_values=np.nan, strategy='mean')\n",
    "    x_out = pd.DataFrame(imp.fit_transform(z), columns=z.columns)\n",
    "    \n",
    "    return x_out"
   ]
  },
  {
   "cell_type": "code",
   "execution_count": 21,
   "metadata": {},
   "outputs": [],
   "source": [
    "df_feat_num = preprocess_tonumeric(df_feat)"
   ]
  },
  {
   "cell_type": "code",
   "execution_count": 22,
   "metadata": {},
   "outputs": [
    {
     "data": {
      "text/html": [
       "<div>\n",
       "<style scoped>\n",
       "    .dataframe tbody tr th:only-of-type {\n",
       "        vertical-align: middle;\n",
       "    }\n",
       "\n",
       "    .dataframe tbody tr th {\n",
       "        vertical-align: top;\n",
       "    }\n",
       "\n",
       "    .dataframe thead th {\n",
       "        text-align: right;\n",
       "    }\n",
       "</style>\n",
       "<table border=\"1\" class=\"dataframe\">\n",
       "  <thead>\n",
       "    <tr style=\"text-align: right;\">\n",
       "      <th></th>\n",
       "      <th>H_Bullpen_BB_AllGames</th>\n",
       "      <th>H_Bullpen_BB_HomeGames</th>\n",
       "      <th>H_Bullpen_BSV_AllGames</th>\n",
       "      <th>H_Bullpen_BSV_HomeGames</th>\n",
       "      <th>H_Bullpen_ERA_AllGames</th>\n",
       "      <th>H_Bullpen_ERA_HomeGames</th>\n",
       "      <th>H_Bullpen_ER_AllGames</th>\n",
       "      <th>H_Bullpen_ER_HomeGames</th>\n",
       "      <th>H_Bullpen_HR_AllGames</th>\n",
       "      <th>H_Bullpen_HR_HomeGames</th>\n",
       "      <th>...</th>\n",
       "      <th>H__Latest_Tot</th>\n",
       "      <th>H__Latest_TotLn</th>\n",
       "      <th>H__Opening_Tot</th>\n",
       "      <th>H__Opening_TotLn</th>\n",
       "      <th>V__Latest_Tot</th>\n",
       "      <th>V__Latest_TotLn</th>\n",
       "      <th>V__Opening_Tot</th>\n",
       "      <th>V__Opening_TotLn</th>\n",
       "      <th>month</th>\n",
       "      <th>year</th>\n",
       "    </tr>\n",
       "  </thead>\n",
       "  <tbody>\n",
       "    <tr>\n",
       "      <th>0</th>\n",
       "      <td>228</td>\n",
       "      <td>117</td>\n",
       "      <td>17</td>\n",
       "      <td>9</td>\n",
       "      <td>4.42</td>\n",
       "      <td>4.69</td>\n",
       "      <td>253</td>\n",
       "      <td>138</td>\n",
       "      <td>56</td>\n",
       "      <td>30</td>\n",
       "      <td>...</td>\n",
       "      <td>8.5</td>\n",
       "      <td>-105.0</td>\n",
       "      <td>8.5</td>\n",
       "      <td>-105.0</td>\n",
       "      <td>8.5</td>\n",
       "      <td>-115.0</td>\n",
       "      <td>8.5</td>\n",
       "      <td>-115.0</td>\n",
       "      <td>4</td>\n",
       "      <td>2010</td>\n",
       "    </tr>\n",
       "    <tr>\n",
       "      <th>1</th>\n",
       "      <td>190</td>\n",
       "      <td>107</td>\n",
       "      <td>18</td>\n",
       "      <td>8</td>\n",
       "      <td>4.06</td>\n",
       "      <td>4.41</td>\n",
       "      <td>212</td>\n",
       "      <td>126</td>\n",
       "      <td>49</td>\n",
       "      <td>25</td>\n",
       "      <td>...</td>\n",
       "      <td>9.0</td>\n",
       "      <td>-115.0</td>\n",
       "      <td>9.0</td>\n",
       "      <td>-115.0</td>\n",
       "      <td>9.0</td>\n",
       "      <td>-105.0</td>\n",
       "      <td>9.0</td>\n",
       "      <td>-105.0</td>\n",
       "      <td>4</td>\n",
       "      <td>2010</td>\n",
       "    </tr>\n",
       "  </tbody>\n",
       "</table>\n",
       "<p>2 rows × 897 columns</p>\n",
       "</div>"
      ],
      "text/plain": [
       "   H_Bullpen_BB_AllGames  H_Bullpen_BB_HomeGames  H_Bullpen_BSV_AllGames  \\\n",
       "0                    228                     117                      17   \n",
       "1                    190                     107                      18   \n",
       "\n",
       "   H_Bullpen_BSV_HomeGames  H_Bullpen_ERA_AllGames  H_Bullpen_ERA_HomeGames  \\\n",
       "0                        9                    4.42                     4.69   \n",
       "1                        8                    4.06                     4.41   \n",
       "\n",
       "   H_Bullpen_ER_AllGames  H_Bullpen_ER_HomeGames  H_Bullpen_HR_AllGames  \\\n",
       "0                    253                     138                     56   \n",
       "1                    212                     126                     49   \n",
       "\n",
       "   H_Bullpen_HR_HomeGames  ...  H__Latest_Tot  H__Latest_TotLn  \\\n",
       "0                      30  ...            8.5           -105.0   \n",
       "1                      25  ...            9.0           -115.0   \n",
       "\n",
       "   H__Opening_Tot  H__Opening_TotLn  V__Latest_Tot  V__Latest_TotLn  \\\n",
       "0             8.5            -105.0            8.5           -115.0   \n",
       "1             9.0            -115.0            9.0           -105.0   \n",
       "\n",
       "   V__Opening_Tot  V__Opening_TotLn  month  year  \n",
       "0             8.5            -115.0      4  2010  \n",
       "1             9.0            -105.0      4  2010  \n",
       "\n",
       "[2 rows x 897 columns]"
      ]
     },
     "execution_count": 22,
     "metadata": {},
     "output_type": "execute_result"
    }
   ],
   "source": [
    "df_feat_num[:2]"
   ]
  },
  {
   "cell_type": "code",
   "execution_count": 23,
   "metadata": {},
   "outputs": [
    {
     "data": {
      "text/plain": [
       "(17573, 897)"
      ]
     },
     "execution_count": 23,
     "metadata": {},
     "output_type": "execute_result"
    }
   ],
   "source": [
    "df_feat_num.shape"
   ]
  },
  {
   "cell_type": "code",
   "execution_count": 24,
   "metadata": {},
   "outputs": [
    {
     "data": {
      "text/plain": [
       "(17573, 594)"
      ]
     },
     "execution_count": 24,
     "metadata": {},
     "output_type": "execute_result"
    }
   ],
   "source": [
    "df.shape"
   ]
  },
  {
   "cell_type": "raw",
   "metadata": {},
   "source": [
    "col = 'H_HitField_TeamBatting_2B_AllGames'\n",
    "z = df_feat_num[col]\n",
    "\n"
   ]
  },
  {
   "cell_type": "raw",
   "metadata": {},
   "source": [
    "for col in z.columns:\n",
    "    if z[col].isnull().any().any():\n",
    "        nancol = col+'_NaN'\n",
    "        print(nancol)\n",
    "        z[nancol] = [1 if s == True else 0 for s in z[col].isnull()]\n",
    "\n",
    "z[col].head()"
   ]
  },
  {
   "cell_type": "code",
   "execution_count": 25,
   "metadata": {},
   "outputs": [
    {
     "data": {
      "text/html": [
       "<div>\n",
       "<style scoped>\n",
       "    .dataframe tbody tr th:only-of-type {\n",
       "        vertical-align: middle;\n",
       "    }\n",
       "\n",
       "    .dataframe tbody tr th {\n",
       "        vertical-align: top;\n",
       "    }\n",
       "\n",
       "    .dataframe thead th {\n",
       "        text-align: right;\n",
       "    }\n",
       "</style>\n",
       "<table border=\"1\" class=\"dataframe\">\n",
       "  <thead>\n",
       "    <tr style=\"text-align: right;\">\n",
       "      <th></th>\n",
       "      <th>H_Bullpen_BB_AllGames</th>\n",
       "      <th>H_Bullpen_BB_HomeGames</th>\n",
       "      <th>H_Bullpen_BSV_AllGames</th>\n",
       "      <th>H_Bullpen_BSV_HomeGames</th>\n",
       "      <th>H_Bullpen_ERA_AllGames</th>\n",
       "      <th>H_Bullpen_ERA_HomeGames</th>\n",
       "      <th>H_Bullpen_ER_AllGames</th>\n",
       "      <th>H_Bullpen_ER_HomeGames</th>\n",
       "      <th>H_Bullpen_HR_AllGames</th>\n",
       "      <th>H_Bullpen_HR_HomeGames</th>\n",
       "      <th>...</th>\n",
       "      <th>V_HitField_TeamFielding_OSB_RightyStarters_NaN</th>\n",
       "      <th>V_HitField_TeamFielding_OSB_RoadGames_NaN</th>\n",
       "      <th>H__Latest_Tot_NaN</th>\n",
       "      <th>H__Latest_TotLn_NaN</th>\n",
       "      <th>H__Opening_Tot_NaN</th>\n",
       "      <th>H__Opening_TotLn_NaN</th>\n",
       "      <th>V__Latest_Tot_NaN</th>\n",
       "      <th>V__Latest_TotLn_NaN</th>\n",
       "      <th>V__Opening_Tot_NaN</th>\n",
       "      <th>V__Opening_TotLn_NaN</th>\n",
       "    </tr>\n",
       "  </thead>\n",
       "  <tbody>\n",
       "    <tr>\n",
       "      <th>0</th>\n",
       "      <td>228.0</td>\n",
       "      <td>117.0</td>\n",
       "      <td>17.0</td>\n",
       "      <td>9.0</td>\n",
       "      <td>4.42</td>\n",
       "      <td>4.69</td>\n",
       "      <td>253.0</td>\n",
       "      <td>138.0</td>\n",
       "      <td>56.0</td>\n",
       "      <td>30.0</td>\n",
       "      <td>...</td>\n",
       "      <td>0.0</td>\n",
       "      <td>0.0</td>\n",
       "      <td>0.0</td>\n",
       "      <td>0.0</td>\n",
       "      <td>0.0</td>\n",
       "      <td>0.0</td>\n",
       "      <td>0.0</td>\n",
       "      <td>0.0</td>\n",
       "      <td>0.0</td>\n",
       "      <td>0.0</td>\n",
       "    </tr>\n",
       "    <tr>\n",
       "      <th>1</th>\n",
       "      <td>190.0</td>\n",
       "      <td>107.0</td>\n",
       "      <td>18.0</td>\n",
       "      <td>8.0</td>\n",
       "      <td>4.06</td>\n",
       "      <td>4.41</td>\n",
       "      <td>212.0</td>\n",
       "      <td>126.0</td>\n",
       "      <td>49.0</td>\n",
       "      <td>25.0</td>\n",
       "      <td>...</td>\n",
       "      <td>1.0</td>\n",
       "      <td>0.0</td>\n",
       "      <td>0.0</td>\n",
       "      <td>0.0</td>\n",
       "      <td>0.0</td>\n",
       "      <td>0.0</td>\n",
       "      <td>0.0</td>\n",
       "      <td>0.0</td>\n",
       "      <td>0.0</td>\n",
       "      <td>0.0</td>\n",
       "    </tr>\n",
       "  </tbody>\n",
       "</table>\n",
       "<p>2 rows × 1363 columns</p>\n",
       "</div>"
      ],
      "text/plain": [
       "   H_Bullpen_BB_AllGames  H_Bullpen_BB_HomeGames  H_Bullpen_BSV_AllGames  \\\n",
       "0                  228.0                   117.0                    17.0   \n",
       "1                  190.0                   107.0                    18.0   \n",
       "\n",
       "   H_Bullpen_BSV_HomeGames  H_Bullpen_ERA_AllGames  H_Bullpen_ERA_HomeGames  \\\n",
       "0                      9.0                    4.42                     4.69   \n",
       "1                      8.0                    4.06                     4.41   \n",
       "\n",
       "   H_Bullpen_ER_AllGames  H_Bullpen_ER_HomeGames  H_Bullpen_HR_AllGames  \\\n",
       "0                  253.0                   138.0                   56.0   \n",
       "1                  212.0                   126.0                   49.0   \n",
       "\n",
       "   H_Bullpen_HR_HomeGames  ...  \\\n",
       "0                    30.0  ...   \n",
       "1                    25.0  ...   \n",
       "\n",
       "   V_HitField_TeamFielding_OSB_RightyStarters_NaN  \\\n",
       "0                                             0.0   \n",
       "1                                             1.0   \n",
       "\n",
       "   V_HitField_TeamFielding_OSB_RoadGames_NaN  H__Latest_Tot_NaN  \\\n",
       "0                                        0.0                0.0   \n",
       "1                                        0.0                0.0   \n",
       "\n",
       "   H__Latest_TotLn_NaN  H__Opening_Tot_NaN  H__Opening_TotLn_NaN  \\\n",
       "0                  0.0                 0.0                   0.0   \n",
       "1                  0.0                 0.0                   0.0   \n",
       "\n",
       "   V__Latest_Tot_NaN  V__Latest_TotLn_NaN  V__Opening_Tot_NaN  \\\n",
       "0                0.0                  0.0                 0.0   \n",
       "1                0.0                  0.0                 0.0   \n",
       "\n",
       "   V__Opening_TotLn_NaN  \n",
       "0                   0.0  \n",
       "1                   0.0  \n",
       "\n",
       "[2 rows x 1363 columns]"
      ]
     },
     "execution_count": 25,
     "metadata": {},
     "output_type": "execute_result"
    }
   ],
   "source": [
    "df_feat_fill = preprocess_nan(df_feat_num)\n",
    "df_feat_fill[:2]"
   ]
  },
  {
   "cell_type": "markdown",
   "metadata": {},
   "source": [
    "### Convert open and close moneylines to probability"
   ]
  },
  {
   "cell_type": "code",
   "execution_count": 26,
   "metadata": {},
   "outputs": [],
   "source": [
    "def american_to_probability(x):\n",
    "    \"\"\"Turns American +/- odds into probability 0 to 1 exclusive\n",
    "    NOTE: Returns 0 if missing since 0 and 1 are impossible from lines\n",
    "    \"\"\"\n",
    "    if x < -99:\n",
    "        num = abs(x)\n",
    "        pr = num/(100+num)\n",
    "        return pr\n",
    "\n",
    "    elif x >= 100:\n",
    "        num = x\n",
    "        pr = 100/(100+num)\n",
    "        return pr\n",
    "    \n",
    "    elif x == None:\n",
    "        pr = 0\n",
    "\n",
    "#     else:\n",
    "#         print('Error: No sign found in betting line string')"
   ]
  },
  {
   "cell_type": "markdown",
   "metadata": {},
   "source": [
    "### Calculate open and close moneyline ROC AUC"
   ]
  },
  {
   "cell_type": "code",
   "execution_count": 27,
   "metadata": {},
   "outputs": [
    {
     "data": {
      "text/plain": [
       "(17573,)"
      ]
     },
     "execution_count": 27,
     "metadata": {},
     "output_type": "execute_result"
    }
   ],
   "source": [
    "df_lateline.shape"
   ]
  },
  {
   "cell_type": "code",
   "execution_count": 28,
   "metadata": {},
   "outputs": [
    {
     "data": {
      "text/plain": [
       "0   -130.0\n",
       "1   -160.0\n",
       "2   -110.0\n",
       "3    120.0\n",
       "4   -140.0\n",
       "Name: H__Latest_Line, dtype: float64"
      ]
     },
     "execution_count": 28,
     "metadata": {},
     "output_type": "execute_result"
    }
   ],
   "source": [
    "df_lateline.head()"
   ]
  },
  {
   "cell_type": "code",
   "execution_count": 29,
   "metadata": {},
   "outputs": [],
   "source": [
    "df_lateline_prob = df_lateline.apply(american_to_probability)\n",
    "\n",
    "df_lateline_prob = df_lateline_prob[lambda x: (x > 0) & (x < 1)]"
   ]
  },
  {
   "cell_type": "code",
   "execution_count": 30,
   "metadata": {},
   "outputs": [
    {
     "data": {
      "text/plain": [
       "0.5965750121668296"
      ]
     },
     "execution_count": 30,
     "metadata": {},
     "output_type": "execute_result"
    }
   ],
   "source": [
    "df_targ_keeps = df_targ[df_lateline_prob.index]\n",
    "\n",
    "roc_auc_score(df_targ_keeps, df_lateline_prob)"
   ]
  },
  {
   "cell_type": "code",
   "execution_count": 31,
   "metadata": {},
   "outputs": [
    {
     "data": {
      "text/plain": [
       "(17573,)"
      ]
     },
     "execution_count": 31,
     "metadata": {},
     "output_type": "execute_result"
    }
   ],
   "source": [
    "df_targ.shape"
   ]
  },
  {
   "cell_type": "code",
   "execution_count": 32,
   "metadata": {},
   "outputs": [
    {
     "data": {
      "text/plain": [
       "(17552,)"
      ]
     },
     "execution_count": 32,
     "metadata": {},
     "output_type": "execute_result"
    }
   ],
   "source": [
    "df_targ_keeps.shape"
   ]
  },
  {
   "cell_type": "code",
   "execution_count": 33,
   "metadata": {},
   "outputs": [
    {
     "data": {
      "text/plain": [
       "(17552,)"
      ]
     },
     "execution_count": 33,
     "metadata": {},
     "output_type": "execute_result"
    }
   ],
   "source": [
    "df_lateline_prob.shape"
   ]
  },
  {
   "cell_type": "code",
   "execution_count": 34,
   "metadata": {},
   "outputs": [
    {
     "data": {
      "text/plain": [
       "0.5912541455140431"
      ]
     },
     "execution_count": 34,
     "metadata": {},
     "output_type": "execute_result"
    }
   ],
   "source": [
    "df_openline_prob = df_openline.apply(american_to_probability)\n",
    "\n",
    "keeps = df_openline_prob[lambda x: (0 <= x) & (x <= 1)]\n",
    "\n",
    "df_openline_prob = df_openline_prob[keeps.index]\n",
    "\n",
    "df_targ_keeps = df_targ[keeps.index]\n",
    "\n",
    "roc_auc_score(df_targ_keeps, df_openline_prob)"
   ]
  },
  {
   "cell_type": "markdown",
   "metadata": {},
   "source": [
    "### RF with AUC and no PCA"
   ]
  },
  {
   "cell_type": "code",
   "execution_count": 35,
   "metadata": {},
   "outputs": [
    {
     "data": {
      "text/plain": [
       "(17573, 1363)"
      ]
     },
     "execution_count": 35,
     "metadata": {},
     "output_type": "execute_result"
    }
   ],
   "source": [
    "df_feat_fill.shape"
   ]
  },
  {
   "cell_type": "raw",
   "metadata": {},
   "source": [
    "nsplit = round(len(df_feat_fill)*0.8)\n",
    "nsplit"
   ]
  },
  {
   "cell_type": "raw",
   "metadata": {},
   "source": [
    "[col for col in df_feat_fill.columns if '_NaN' in col]"
   ]
  },
  {
   "cell_type": "raw",
   "metadata": {},
   "source": [
    "df_feat_fill_train = df_feat_fill.iloc[:nsplit]\n",
    "df_targ_train = df_targ.iloc[:nsplit]\n",
    "df_feat_fill_test = df_feat_fill.iloc[nsplit:]\n",
    "df_targ_test = df_targ.iloc[nsplit:]"
   ]
  },
  {
   "cell_type": "markdown",
   "metadata": {},
   "source": [
    "## Tune Parameters"
   ]
  },
  {
   "cell_type": "markdown",
   "metadata": {},
   "source": [
    "### Leave one out CV to find model complexity"
   ]
  },
  {
   "cell_type": "code",
   "execution_count": null,
   "metadata": {},
   "outputs": [],
   "source": [
    "### Define len for subset for development\n",
    "_dev_len = 2000\n",
    "\n",
    "### Define feature and target data\n",
    "\n",
    "X = df_feat_fill[:_dev_len].to_numpy()\n",
    "y = df_targ[:_dev_len].to_numpy()\n",
    "\n",
    "\n",
    "### Save number of splits for leave-one-out CV\n",
    "\n",
    "loo = LeaveOneOut()\n",
    "splits = loo.split(X)\n",
    "\n",
    "### Grid of hyperparams to search\n",
    "\n",
    "parameters = {'max_depth': [1,20,50,100], 'min_samples_split': [2,5,10,20,30,50]}\n",
    "rfc = RandomForestClassifier(n_estimators=100, n_jobs=-1)\n",
    "clf = GridSearchCV(rfc, parameters, n_jobs=-1, cv=splits)\n",
    "clf.fit(X, y)\n",
    "\n",
    "\n",
    "\n",
    "### Create splits"
   ]
  },
  {
   "cell_type": "code",
   "execution_count": 57,
   "metadata": {},
   "outputs": [
    {
     "data": {
      "text/plain": [
       "{'max_depth': 1, 'min_samples_split': 30}"
      ]
     },
     "execution_count": 57,
     "metadata": {},
     "output_type": "execute_result"
    }
   ],
   "source": [
    "clf.best_params_"
   ]
  },
  {
   "cell_type": "code",
   "execution_count": 58,
   "metadata": {},
   "outputs": [
    {
     "data": {
      "text/plain": [
       "0.5415"
      ]
     },
     "execution_count": 58,
     "metadata": {},
     "output_type": "execute_result"
    }
   ],
   "source": [
    "clf.score(X, y)"
   ]
  },
  {
   "cell_type": "raw",
   "metadata": {},
   "source": [
    "### Iterate over all leaveoneout splits\n",
    "\n",
    "for train_index, test_index in loo.split(X):\n",
    "    X_train, X_test = X[train_index], X[test_index]\n",
    "    y_train, y_test = y[train_index], y[test_index]"
   ]
  },
  {
   "cell_type": "code",
   "execution_count": 40,
   "metadata": {},
   "outputs": [
    {
     "data": {
      "text/plain": [
       "(17572, 1363)"
      ]
     },
     "execution_count": 40,
     "metadata": {},
     "output_type": "execute_result"
    }
   ],
   "source": [
    "X_train.shape"
   ]
  },
  {
   "cell_type": "code",
   "execution_count": 96,
   "metadata": {},
   "outputs": [
    {
     "name": "stdout",
     "output_type": "stream",
     "text": [
      "0.531850700968348\n",
      "0.5253301793810368\n",
      "0.5339395051700977\n",
      "0.5286288962759551\n",
      "0.541519634963862\n",
      "0.5108677676766884\n",
      "0.5377828569796435\n",
      "0.5361884654914358\n",
      "0.5375349355181782\n",
      "0.5227284219288163\n"
     ]
    }
   ],
   "source": [
    "for cnt in range(1,100,10):\n",
    "#     X_train, X_test, Y_train, Y_test = train_test_split(df_feat_fill, df_targ, test_size=0.2, random_state=cnt)\n",
    "\n",
    "    ### Standarize data\n",
    "\n",
    "    min_max_scaler = preprocessing.MinMaxScaler()\n",
    "    np_scaled = min_max_scaler.fit_transform(df_feat_fill)\n",
    "    df_feat_fill_st = pd.DataFrame(np_scaled)\n",
    "\n",
    "    df_feat_fill_train, df_feat_fill_test, df_targ_train, df_targ_test = train_test_split(df_feat_fill_st, df_targ, test_size=0.2)\n",
    "\n",
    "    clf = AdaBoostClassifier()\n",
    "    df_fit = clf.fit(df_feat_fill_train, df_targ_train)\n",
    "    df_pred = df_fit.predict(df_feat_fill_test)\n",
    "    \n",
    "    print(roc_auc_score(df_targ_test, df_pred))\n",
    "    "
   ]
  },
  {
   "cell_type": "code",
   "execution_count": 84,
   "metadata": {},
   "outputs": [
    {
     "name": "stdout",
     "output_type": "stream",
     "text": [
      "0.512822626163314\n",
      "0.5273800786155829\n",
      "0.5164933069315196\n",
      "0.5252343658877168\n",
      "0.5261184779240267\n",
      "0.5283997236213925\n",
      "0.5191845548465334\n",
      "0.5174868588530961\n",
      "0.5170416937053861\n",
      "0.5225325038238827\n"
     ]
    }
   ],
   "source": [
    "for cnt in range(0,10):\n",
    "\n",
    "    df_feat_fill_train, df_feat_fill_test, df_targ_train, df_targ_test = train_test_split(df_feat_fill, df_targ, test_size=0.2, random_state=cnt)\n",
    "\n",
    "    clf = RandomForestClassifier(n_estimators=100, n_jobs=-1, random_state=cnt)\n",
    "    df_fit = clf.fit(df_feat_fill_train, df_targ_train)\n",
    "    df_pred = df_fit.predict(df_feat_fill_test)\n",
    "    \n",
    "    print(roc_auc_score(df_targ_test, df_pred))\n",
    "    "
   ]
  },
  {
   "cell_type": "markdown",
   "metadata": {},
   "source": [
    "## Test out PCA"
   ]
  },
  {
   "cell_type": "markdown",
   "metadata": {},
   "source": [
    "### Standardize Features"
   ]
  },
  {
   "cell_type": "code",
   "execution_count": 75,
   "metadata": {},
   "outputs": [],
   "source": [
    "def RunPCA(X,n):\n",
    "    \"\"\"Takes an input data set X and returns n principal components\n",
    "    \"\"\"\n",
    "    # Create a scaler object\n",
    "    sc = StandardScaler()\n",
    "    \n",
    "    # Fit the scaler to the features and transform\n",
    "    X_std = sc.fit_transform(X)\n",
    "\n",
    "    # Create a pca object with the 2 components as a parameter\n",
    "    pca = decomposition.PCA(n_components=n)\n",
    "\n",
    "    # Fit the PCA and transform the data\n",
    "    X_std_pca = pca.fit_transform(X_std)\n",
    "    \n",
    "    return X_std_pca"
   ]
  },
  {
   "cell_type": "code",
   "execution_count": 76,
   "metadata": {},
   "outputs": [],
   "source": [
    "df_feat_fill_train = df_feat_fill.iloc[:nsplit]\n",
    "df_targ_train = df_targ.iloc[:nsplit]\n",
    "df_feat_fill_test = df_feat_fill.iloc[nsplit:]\n",
    "df_targ_test = df_targ.iloc[nsplit:]"
   ]
  },
  {
   "cell_type": "raw",
   "metadata": {},
   "source": [
    "# Create standardized, principal components\n",
    "std_pca_train = RunPCA(df_feat_fill_train,50)\n",
    "std_pca_df = RunPCA(df_feat_fill_test,50)"
   ]
  },
  {
   "cell_type": "markdown",
   "metadata": {},
   "source": [
    "### Practice with PCA\n",
    "\n",
    "transform df with fit on train"
   ]
  },
  {
   "cell_type": "markdown",
   "metadata": {},
   "source": [
    "### Tune n_components param"
   ]
  },
  {
   "cell_type": "code",
   "execution_count": 94,
   "metadata": {},
   "outputs": [
    {
     "name": "stdout",
     "output_type": "stream",
     "text": [
      "1   0.5406012163200662\n",
      "6   0.5254810861839616\n",
      "11   0.5257931631733549\n",
      "16   0.5242600849629604\n",
      "21   0.5194033868155274\n",
      "26   0.5261052401627482\n",
      "31   0.5394582343464133\n",
      "36   0.5252879885467745\n",
      "41   0.5288456662258579\n",
      "46   0.530548436299235\n",
      "51   0.512311437231565\n",
      "56   0.5231171029893075\n",
      "61   0.5362496927992135\n",
      "66   0.5289373388414922\n",
      "71   0.5312876686678604\n",
      "76   0.5225846216261553\n",
      "81   0.5338584028679876\n",
      "86   0.5248198730626845\n",
      "91   0.5148587656574877\n",
      "96   0.531898169278361\n"
     ]
    }
   ],
   "source": [
    "scores = dict()\n",
    "\n",
    "for cnt in range(1,100,5):\n",
    "\n",
    "    ### Create a pca object with the 2 components as a parameter\n",
    "    \n",
    "    pca = decomposition.PCA(n_components=50)\n",
    "\n",
    "    df_feat_fill_train, df_feat_fill_test, df_targ_train, df_targ_test = train_test_split(df_feat_fill, df_targ, test_size=0.1, random_state=1)\n",
    "\n",
    "    X1 = df_feat_fill_train\n",
    "    X2 = df_feat_fill_test\n",
    "\n",
    "    ### Create a scaler object\n",
    "    \n",
    "    sc = StandardScaler()\n",
    "\n",
    "    ### Fit the scaler to the features and transform\n",
    "    \n",
    "    X1_std = sc.fit_transform(X1)\n",
    "    X2_std = sc.fit(X1).transform(X2)\n",
    "\n",
    "    ### Fit the PCA and transform the data\n",
    "    \n",
    "    X1_std_pca = pca.fit_transform(X1_std)\n",
    "    X2_std_pca = pca.fit(X1_std).transform(X2_std)\n",
    "\n",
    "    std_pca_train = X1_std_pca\n",
    "    std_pca_df = X2_std_pca\n",
    "\n",
    "    clf = AdaBoostClassifier(n_estimators=100, random_state=1)\n",
    "    df_fit = clf.fit(std_pca_train, df_targ_train)\n",
    "    df_pred = df_fit.predict(std_pca_df)\n",
    "    score = roc_auc_score(df_targ_test, df_pred)\n",
    "    \n",
    "    ### Append score to dict\n",
    "    \n",
    "    scores[cnt] = score\n",
    "    \n",
    "    ### Print for OCD\n",
    "    print(cnt,' ',score)"
   ]
  },
  {
   "cell_type": "code",
   "execution_count": 89,
   "metadata": {},
   "outputs": [
    {
     "data": {
      "text/plain": [
       "\u001b[0;31mInit signature:\u001b[0m \u001b[0mRandomForestClassifier\u001b[0m\u001b[0;34m(\u001b[0m\u001b[0mn_estimators\u001b[0m\u001b[0;34m=\u001b[0m\u001b[0;34m'warn'\u001b[0m\u001b[0;34m,\u001b[0m \u001b[0mcriterion\u001b[0m\u001b[0;34m=\u001b[0m\u001b[0;34m'gini'\u001b[0m\u001b[0;34m,\u001b[0m \u001b[0mmax_depth\u001b[0m\u001b[0;34m=\u001b[0m\u001b[0;32mNone\u001b[0m\u001b[0;34m,\u001b[0m \u001b[0mmin_samples_split\u001b[0m\u001b[0;34m=\u001b[0m\u001b[0;36m2\u001b[0m\u001b[0;34m,\u001b[0m \u001b[0mmin_samples_leaf\u001b[0m\u001b[0;34m=\u001b[0m\u001b[0;36m1\u001b[0m\u001b[0;34m,\u001b[0m \u001b[0mmin_weight_fraction_leaf\u001b[0m\u001b[0;34m=\u001b[0m\u001b[0;36m0.0\u001b[0m\u001b[0;34m,\u001b[0m \u001b[0mmax_features\u001b[0m\u001b[0;34m=\u001b[0m\u001b[0;34m'auto'\u001b[0m\u001b[0;34m,\u001b[0m \u001b[0mmax_leaf_nodes\u001b[0m\u001b[0;34m=\u001b[0m\u001b[0;32mNone\u001b[0m\u001b[0;34m,\u001b[0m \u001b[0mmin_impurity_decrease\u001b[0m\u001b[0;34m=\u001b[0m\u001b[0;36m0.0\u001b[0m\u001b[0;34m,\u001b[0m \u001b[0mmin_impurity_split\u001b[0m\u001b[0;34m=\u001b[0m\u001b[0;32mNone\u001b[0m\u001b[0;34m,\u001b[0m \u001b[0mbootstrap\u001b[0m\u001b[0;34m=\u001b[0m\u001b[0;32mTrue\u001b[0m\u001b[0;34m,\u001b[0m \u001b[0moob_score\u001b[0m\u001b[0;34m=\u001b[0m\u001b[0;32mFalse\u001b[0m\u001b[0;34m,\u001b[0m \u001b[0mn_jobs\u001b[0m\u001b[0;34m=\u001b[0m\u001b[0;32mNone\u001b[0m\u001b[0;34m,\u001b[0m \u001b[0mrandom_state\u001b[0m\u001b[0;34m=\u001b[0m\u001b[0;32mNone\u001b[0m\u001b[0;34m,\u001b[0m \u001b[0mverbose\u001b[0m\u001b[0;34m=\u001b[0m\u001b[0;36m0\u001b[0m\u001b[0;34m,\u001b[0m \u001b[0mwarm_start\u001b[0m\u001b[0;34m=\u001b[0m\u001b[0;32mFalse\u001b[0m\u001b[0;34m,\u001b[0m \u001b[0mclass_weight\u001b[0m\u001b[0;34m=\u001b[0m\u001b[0;32mNone\u001b[0m\u001b[0;34m)\u001b[0m\u001b[0;34m\u001b[0m\u001b[0m\n",
       "\u001b[0;31mDocstring:\u001b[0m     \n",
       "A random forest classifier.\n",
       "\n",
       "A random forest is a meta estimator that fits a number of decision tree\n",
       "classifiers on various sub-samples of the dataset and uses averaging to\n",
       "improve the predictive accuracy and control over-fitting.\n",
       "The sub-sample size is always the same as the original\n",
       "input sample size but the samples are drawn with replacement if\n",
       "`bootstrap=True` (default).\n",
       "\n",
       "Read more in the :ref:`User Guide <forest>`.\n",
       "\n",
       "Parameters\n",
       "----------\n",
       "n_estimators : integer, optional (default=10)\n",
       "    The number of trees in the forest.\n",
       "\n",
       "    .. versionchanged:: 0.20\n",
       "       The default value of ``n_estimators`` will change from 10 in\n",
       "       version 0.20 to 100 in version 0.22.\n",
       "\n",
       "criterion : string, optional (default=\"gini\")\n",
       "    The function to measure the quality of a split. Supported criteria are\n",
       "    \"gini\" for the Gini impurity and \"entropy\" for the information gain.\n",
       "    Note: this parameter is tree-specific.\n",
       "\n",
       "max_depth : integer or None, optional (default=None)\n",
       "    The maximum depth of the tree. If None, then nodes are expanded until\n",
       "    all leaves are pure or until all leaves contain less than\n",
       "    min_samples_split samples.\n",
       "\n",
       "min_samples_split : int, float, optional (default=2)\n",
       "    The minimum number of samples required to split an internal node:\n",
       "\n",
       "    - If int, then consider `min_samples_split` as the minimum number.\n",
       "    - If float, then `min_samples_split` is a fraction and\n",
       "      `ceil(min_samples_split * n_samples)` are the minimum\n",
       "      number of samples for each split.\n",
       "\n",
       "    .. versionchanged:: 0.18\n",
       "       Added float values for fractions.\n",
       "\n",
       "min_samples_leaf : int, float, optional (default=1)\n",
       "    The minimum number of samples required to be at a leaf node.\n",
       "    A split point at any depth will only be considered if it leaves at\n",
       "    least ``min_samples_leaf`` training samples in each of the left and\n",
       "    right branches.  This may have the effect of smoothing the model,\n",
       "    especially in regression.\n",
       "\n",
       "    - If int, then consider `min_samples_leaf` as the minimum number.\n",
       "    - If float, then `min_samples_leaf` is a fraction and\n",
       "      `ceil(min_samples_leaf * n_samples)` are the minimum\n",
       "      number of samples for each node.\n",
       "\n",
       "    .. versionchanged:: 0.18\n",
       "       Added float values for fractions.\n",
       "\n",
       "min_weight_fraction_leaf : float, optional (default=0.)\n",
       "    The minimum weighted fraction of the sum total of weights (of all\n",
       "    the input samples) required to be at a leaf node. Samples have\n",
       "    equal weight when sample_weight is not provided.\n",
       "\n",
       "max_features : int, float, string or None, optional (default=\"auto\")\n",
       "    The number of features to consider when looking for the best split:\n",
       "\n",
       "    - If int, then consider `max_features` features at each split.\n",
       "    - If float, then `max_features` is a fraction and\n",
       "      `int(max_features * n_features)` features are considered at each\n",
       "      split.\n",
       "    - If \"auto\", then `max_features=sqrt(n_features)`.\n",
       "    - If \"sqrt\", then `max_features=sqrt(n_features)` (same as \"auto\").\n",
       "    - If \"log2\", then `max_features=log2(n_features)`.\n",
       "    - If None, then `max_features=n_features`.\n",
       "\n",
       "    Note: the search for a split does not stop until at least one\n",
       "    valid partition of the node samples is found, even if it requires to\n",
       "    effectively inspect more than ``max_features`` features.\n",
       "\n",
       "max_leaf_nodes : int or None, optional (default=None)\n",
       "    Grow trees with ``max_leaf_nodes`` in best-first fashion.\n",
       "    Best nodes are defined as relative reduction in impurity.\n",
       "    If None then unlimited number of leaf nodes.\n",
       "\n",
       "min_impurity_decrease : float, optional (default=0.)\n",
       "    A node will be split if this split induces a decrease of the impurity\n",
       "    greater than or equal to this value.\n",
       "\n",
       "    The weighted impurity decrease equation is the following::\n",
       "\n",
       "        N_t / N * (impurity - N_t_R / N_t * right_impurity\n",
       "                            - N_t_L / N_t * left_impurity)\n",
       "\n",
       "    where ``N`` is the total number of samples, ``N_t`` is the number of\n",
       "    samples at the current node, ``N_t_L`` is the number of samples in the\n",
       "    left child, and ``N_t_R`` is the number of samples in the right child.\n",
       "\n",
       "    ``N``, ``N_t``, ``N_t_R`` and ``N_t_L`` all refer to the weighted sum,\n",
       "    if ``sample_weight`` is passed.\n",
       "\n",
       "    .. versionadded:: 0.19\n",
       "\n",
       "min_impurity_split : float, (default=1e-7)\n",
       "    Threshold for early stopping in tree growth. A node will split\n",
       "    if its impurity is above the threshold, otherwise it is a leaf.\n",
       "\n",
       "    .. deprecated:: 0.19\n",
       "       ``min_impurity_split`` has been deprecated in favor of\n",
       "       ``min_impurity_decrease`` in 0.19. The default value of\n",
       "       ``min_impurity_split`` will change from 1e-7 to 0 in 0.23 and it\n",
       "       will be removed in 0.25. Use ``min_impurity_decrease`` instead.\n",
       "\n",
       "\n",
       "bootstrap : boolean, optional (default=True)\n",
       "    Whether bootstrap samples are used when building trees. If False, the\n",
       "    whole datset is used to build each tree.\n",
       "\n",
       "oob_score : bool (default=False)\n",
       "    Whether to use out-of-bag samples to estimate\n",
       "    the generalization accuracy.\n",
       "\n",
       "n_jobs : int or None, optional (default=None)\n",
       "    The number of jobs to run in parallel for both `fit` and `predict`.\n",
       "    ``None`` means 1 unless in a :obj:`joblib.parallel_backend` context.\n",
       "    ``-1`` means using all processors. See :term:`Glossary <n_jobs>`\n",
       "    for more details.\n",
       "\n",
       "random_state : int, RandomState instance or None, optional (default=None)\n",
       "    If int, random_state is the seed used by the random number generator;\n",
       "    If RandomState instance, random_state is the random number generator;\n",
       "    If None, the random number generator is the RandomState instance used\n",
       "    by `np.random`.\n",
       "\n",
       "verbose : int, optional (default=0)\n",
       "    Controls the verbosity when fitting and predicting.\n",
       "\n",
       "warm_start : bool, optional (default=False)\n",
       "    When set to ``True``, reuse the solution of the previous call to fit\n",
       "    and add more estimators to the ensemble, otherwise, just fit a whole\n",
       "    new forest. See :term:`the Glossary <warm_start>`.\n",
       "\n",
       "class_weight : dict, list of dicts, \"balanced\", \"balanced_subsample\" or     None, optional (default=None)\n",
       "    Weights associated with classes in the form ``{class_label: weight}``.\n",
       "    If not given, all classes are supposed to have weight one. For\n",
       "    multi-output problems, a list of dicts can be provided in the same\n",
       "    order as the columns of y.\n",
       "\n",
       "    Note that for multioutput (including multilabel) weights should be\n",
       "    defined for each class of every column in its own dict. For example,\n",
       "    for four-class multilabel classification weights should be\n",
       "    [{0: 1, 1: 1}, {0: 1, 1: 5}, {0: 1, 1: 1}, {0: 1, 1: 1}] instead of\n",
       "    [{1:1}, {2:5}, {3:1}, {4:1}].\n",
       "\n",
       "    The \"balanced\" mode uses the values of y to automatically adjust\n",
       "    weights inversely proportional to class frequencies in the input data\n",
       "    as ``n_samples / (n_classes * np.bincount(y))``\n",
       "\n",
       "    The \"balanced_subsample\" mode is the same as \"balanced\" except that\n",
       "    weights are computed based on the bootstrap sample for every tree\n",
       "    grown.\n",
       "\n",
       "    For multi-output, the weights of each column of y will be multiplied.\n",
       "\n",
       "    Note that these weights will be multiplied with sample_weight (passed\n",
       "    through the fit method) if sample_weight is specified.\n",
       "\n",
       "Attributes\n",
       "----------\n",
       "estimators_ : list of DecisionTreeClassifier\n",
       "    The collection of fitted sub-estimators.\n",
       "\n",
       "classes_ : array of shape = [n_classes] or a list of such arrays\n",
       "    The classes labels (single output problem), or a list of arrays of\n",
       "    class labels (multi-output problem).\n",
       "\n",
       "n_classes_ : int or list\n",
       "    The number of classes (single output problem), or a list containing the\n",
       "    number of classes for each output (multi-output problem).\n",
       "\n",
       "n_features_ : int\n",
       "    The number of features when ``fit`` is performed.\n",
       "\n",
       "n_outputs_ : int\n",
       "    The number of outputs when ``fit`` is performed.\n",
       "\n",
       "feature_importances_ : array of shape = [n_features]\n",
       "    The feature importances (the higher, the more important the feature).\n",
       "\n",
       "oob_score_ : float\n",
       "    Score of the training dataset obtained using an out-of-bag estimate.\n",
       "\n",
       "oob_decision_function_ : array of shape = [n_samples, n_classes]\n",
       "    Decision function computed with out-of-bag estimate on the training\n",
       "    set. If n_estimators is small it might be possible that a data point\n",
       "    was never left out during the bootstrap. In this case,\n",
       "    `oob_decision_function_` might contain NaN.\n",
       "\n",
       "Examples\n",
       "--------\n",
       ">>> from sklearn.ensemble import RandomForestClassifier\n",
       ">>> from sklearn.datasets import make_classification\n",
       "\n",
       ">>> X, y = make_classification(n_samples=1000, n_features=4,\n",
       "...                            n_informative=2, n_redundant=0,\n",
       "...                            random_state=0, shuffle=False)\n",
       ">>> clf = RandomForestClassifier(n_estimators=100, max_depth=2,\n",
       "...                              random_state=0)\n",
       ">>> clf.fit(X, y)\n",
       "RandomForestClassifier(bootstrap=True, class_weight=None, criterion='gini',\n",
       "            max_depth=2, max_features='auto', max_leaf_nodes=None,\n",
       "            min_impurity_decrease=0.0, min_impurity_split=None,\n",
       "            min_samples_leaf=1, min_samples_split=2,\n",
       "            min_weight_fraction_leaf=0.0, n_estimators=100, n_jobs=None,\n",
       "            oob_score=False, random_state=0, verbose=0, warm_start=False)\n",
       ">>> print(clf.feature_importances_)\n",
       "[0.14205973 0.76664038 0.0282433  0.06305659]\n",
       ">>> print(clf.predict([[0, 0, 0, 0]]))\n",
       "[1]\n",
       "\n",
       "Notes\n",
       "-----\n",
       "The default values for the parameters controlling the size of the trees\n",
       "(e.g. ``max_depth``, ``min_samples_leaf``, etc.) lead to fully grown and\n",
       "unpruned trees which can potentially be very large on some data sets. To\n",
       "reduce memory consumption, the complexity and size of the trees should be\n",
       "controlled by setting those parameter values.\n",
       "\n",
       "The features are always randomly permuted at each split. Therefore,\n",
       "the best found split may vary, even with the same training data,\n",
       "``max_features=n_features`` and ``bootstrap=False``, if the improvement\n",
       "of the criterion is identical for several splits enumerated during the\n",
       "search of the best split. To obtain a deterministic behaviour during\n",
       "fitting, ``random_state`` has to be fixed.\n",
       "\n",
       "References\n",
       "----------\n",
       "\n",
       ".. [1] L. Breiman, \"Random Forests\", Machine Learning, 45(1), 5-32, 2001.\n",
       "\n",
       "See also\n",
       "--------\n",
       "DecisionTreeClassifier, ExtraTreesClassifier\n",
       "\u001b[0;31mFile:\u001b[0m           ~/anaconda3/envs/python3/lib/python3.6/site-packages/sklearn/ensemble/forest.py\n",
       "\u001b[0;31mType:\u001b[0m           ABCMeta\n"
      ]
     },
     "metadata": {},
     "output_type": "display_data"
    }
   ],
   "source": [
    "RandomForestClassifier?"
   ]
  },
  {
   "cell_type": "code",
   "execution_count": null,
   "metadata": {},
   "outputs": [],
   "source": [
    "pd.DataFrame([clf.feature_importances_, df_feat_fill_train.columns]).transpose().sort_values"
   ]
  },
  {
   "cell_type": "code",
   "execution_count": null,
   "metadata": {},
   "outputs": [],
   "source": [
    "pd.DataFrame([clf.feature_importances_, df_feat_fill_train.columns]).transpose.sort"
   ]
  },
  {
   "cell_type": "code",
   "execution_count": null,
   "metadata": {},
   "outputs": [],
   "source": [
    "df_feat_fill_desc = df_feat_fill_train.describe().loc[['mean', 'std']]"
   ]
  },
  {
   "cell_type": "code",
   "execution_count": null,
   "metadata": {},
   "outputs": [],
   "source": [
    "df_feat_fill_desc"
   ]
  },
  {
   "cell_type": "code",
   "execution_count": null,
   "metadata": {},
   "outputs": [],
   "source": [
    "for x in df_feat_fill_desc.columns:\n",
    "    print(df_feat_fill_desc[x])"
   ]
  },
  {
   "cell_type": "code",
   "execution_count": null,
   "metadata": {},
   "outputs": [],
   "source": [
    "scores = dict()\n",
    "for cnt in range(4):\n",
    "    scores[cnt] = cnt*4"
   ]
  },
  {
   "cell_type": "code",
   "execution_count": null,
   "metadata": {},
   "outputs": [],
   "source": [
    "scores"
   ]
  },
  {
   "cell_type": "code",
   "execution_count": null,
   "metadata": {},
   "outputs": [],
   "source": []
  }
 ],
 "metadata": {
  "kernelspec": {
   "display_name": "conda_python3",
   "language": "python",
   "name": "conda_python3"
  },
  "language_info": {
   "codemirror_mode": {
    "name": "ipython",
    "version": 3
   },
   "file_extension": ".py",
   "mimetype": "text/x-python",
   "name": "python",
   "nbconvert_exporter": "python",
   "pygments_lexer": "ipython3",
   "version": "3.6.5"
  }
 },
 "nbformat": 4,
 "nbformat_minor": 4
}
