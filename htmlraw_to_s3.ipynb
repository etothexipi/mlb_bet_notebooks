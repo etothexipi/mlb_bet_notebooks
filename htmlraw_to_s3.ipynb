{
 "cells": [
  {
   "cell_type": "code",
   "execution_count": 108,
   "metadata": {},
   "outputs": [],
   "source": [
    "import pickle\n",
    "import urllib.request\n",
    "import gzip\n",
    "import shutil\n",
    "import boto3"
   ]
  },
  {
   "cell_type": "code",
   "execution_count": 117,
   "metadata": {},
   "outputs": [],
   "source": [
    "url = 'http://foxsheets.statfoxsports.com/foxsheets.aspx?s=mlb&g=20180623BOSTON&r=at'\n",
    "fname = '20180623BOSTON.html'"
   ]
  },
  {
   "cell_type": "code",
   "execution_count": null,
   "metadata": {},
   "outputs": [],
   "source": [
    "def htmlraw_to_s3(url,bucket,fname):\n",
    "    \"\"\"Compress raw html from url and save to S3 bucket\n",
    "    \"\"\"\n",
    "    urllib.request.urlretrieve(url,fname)\n",
    "\n",
    "    with open(fname, 'rb') as f_in:\n",
    "        with gzip.open(fname+'.gz', 'wb') as f_out:\n",
    "            shutil.copyfileobj(f_in, f_out)\n",
    "            \n",
    "    # Add section to send to S3 bucket"
   ]
  },
  {
   "cell_type": "code",
   "execution_count": null,
   "metadata": {},
   "outputs": [],
   "source": [
    "# code you already have, saving the file locally to whatever directory you wish\n",
    "file_name = \"mydata.csv\" \n",
    "df.to_csv(file_name)\n",
    "\n",
    "# instantiate S3 client and upload to s3\n",
    "s3 = boto3.resource('s3')\n",
    "s3.meta.client.upload_file(file_name, 'YOUR_S3_BUCKET_NAME', 'DESIRED_S3_OBJECT_NAME')"
   ]
  },
  {
   "cell_type": "code",
   "execution_count": 119,
   "metadata": {},
   "outputs": [],
   "source": [
    "htmlraw_to_s3(url,bucket='dfs',fname=fname)"
   ]
  },
  {
   "cell_type": "code",
   "execution_count": 123,
   "metadata": {},
   "outputs": [
    {
     "name": "stdout",
     "output_type": "stream",
     "text": [
      "total 296\n",
      "drwxrwxr-x 4 ec2-user ec2-user  4096 Jan 30 04:40 .\n",
      "drwxr-xr-x 6 ec2-user ec2-user  4096 Jan 30 03:18 ..\n",
      "-rw-rw-r-- 1 ec2-user ec2-user 84833 Jan 30 04:39 20180623BOSTON.html\n",
      "-rw-rw-r-- 1 ec2-user ec2-user 16542 Jan 30 04:40 20180623BOSTON.html.gz\n",
      "drwxrwxr-x 8 ec2-user ec2-user  4096 Jan 30 03:14 .git\n",
      "drwxrwxr-x 2 ec2-user ec2-user  4096 Jan 30 03:01 .ipynb_checkpoints\n",
      "-rw-rw-r-- 1 ec2-user ec2-user     0 Jan 30 04:32 plz_work\n",
      "-rw-rw-r-- 1 ec2-user ec2-user    86 Jan 30 02:58 README.md\n",
      "-rw-rw-r-- 1 ec2-user ec2-user 84938 Jan 30 03:46 testpage.html\n",
      "-rw-rw-r-- 1 ec2-user ec2-user 85136 Jan 30 03:35 teststats.html\n",
      "-rw-rw-r-- 1 ec2-user ec2-user  3728 Jan 30 04:39 Untitled.ipynb\n"
     ]
    }
   ],
   "source": [
    "!ls -la"
   ]
  }
 ],
 "metadata": {
  "kernelspec": {
   "display_name": "conda_python3",
   "language": "python",
   "name": "conda_python3"
  },
  "language_info": {
   "codemirror_mode": {
    "name": "ipython",
    "version": 3
   },
   "file_extension": ".py",
   "mimetype": "text/x-python",
   "name": "python",
   "nbconvert_exporter": "python",
   "pygments_lexer": "ipython3",
   "version": "3.6.5"
  }
 },
 "nbformat": 4,
 "nbformat_minor": 4
}
