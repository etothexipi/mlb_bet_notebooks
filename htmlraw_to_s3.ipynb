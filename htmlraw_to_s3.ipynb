{
 "cells": [
  {
   "cell_type": "code",
   "execution_count": 2,
   "metadata": {},
   "outputs": [],
   "source": [
    "import pickle\n",
    "import urllib.request\n",
    "import gzip\n",
    "import shutil\n",
    "import boto3"
   ]
  },
  {
   "cell_type": "code",
   "execution_count": 3,
   "metadata": {},
   "outputs": [],
   "source": [
    "url = 'http://foxsheets.statfoxsports.com/foxsheets.aspx?s=mlb&g=20180623BOSTON&r=at'\n",
    "fname = '20180623BOSTON.html'"
   ]
  },
  {
   "cell_type": "code",
   "execution_count": 4,
   "metadata": {},
   "outputs": [],
   "source": [
    "def htmlraw_to_s3(url,bucket,fname):\n",
    "    \"\"\"Compress raw html from url and save to S3 bucket\n",
    "    \"\"\"\n",
    "    urllib.request.urlretrieve(url,fname)\n",
    "\n",
    "    with open(fname, 'rb') as f_in:\n",
    "        with gzip.open(fname+'.gz', 'wb') as f_out:\n",
    "            shutil.copyfileobj(f_in, f_out)\n",
    "            \n",
    "    # Add section to send to S3 bucket"
   ]
  },
  {
   "cell_type": "code",
   "execution_count": null,
   "metadata": {},
   "outputs": [],
   "source": [
    "# code you already have, saving the file locally to whatever directory you wish\n",
    "file_name = \"mydata.csv\" \n",
    "df.to_csv(file_name)\n",
    "\n",
    "# instantiate S3 client and upload to s3\n",
    "s3 = boto3.resource('s3')\n",
    "s3.meta.client.upload_file(file_name, 'YOUR_S3_BUCKET_NAME', 'DESIRED_S3_OBJECT_NAME')"
   ]
  },
  {
   "cell_type": "code",
   "execution_count": 119,
   "metadata": {},
   "outputs": [],
   "source": [
    "htmlraw_to_s3(url,bucket='dfs',fname=fname)"
   ]
  },
  {
   "cell_type": "code",
   "execution_count": 1,
   "metadata": {},
   "outputs": [
    {
     "name": "stdout",
     "output_type": "stream",
     "text": [
      "total 124\n",
      "drwxrwxr-x 4 ec2-user ec2-user  4096 Jan 31 04:04 .\n",
      "drwxr-xr-x 6 ec2-user ec2-user  4096 Jan 31 03:43 ..\n",
      "-rw-rw-r-- 1 ec2-user ec2-user 84120 Jan 31 04:04 20180623BOSTON.html\n",
      "-rw-rw-r-- 1 ec2-user ec2-user 16342 Jan 31 04:04 20180623BOSTON.html.gz\n",
      "drwxrwxr-x 8 ec2-user ec2-user  4096 Jan 31 04:04 .git\n",
      "-rw-rw-r-- 1 ec2-user ec2-user  3150 Jan 31 03:43 htmlraw_to_s3.ipynb\n",
      "drwxrwxr-x 2 ec2-user ec2-user  4096 Jan 31 04:04 .ipynb_checkpoints\n",
      "-rw-rw-r-- 1 ec2-user ec2-user    86 Jan 31 03:43 README.md\n"
     ]
    }
   ],
   "source": [
    "!ls -la"
   ]
  },
  {
   "cell_type": "markdown",
   "metadata": {},
   "source": [
    "## Chapter 2 - Reading and Writing Files\n",
    "\"DevOps for Python\" (Gift)"
   ]
  },
  {
   "cell_type": "code",
   "execution_count": 6,
   "metadata": {},
   "outputs": [
    {
     "data": {
      "text/plain": [
       "84061"
      ]
     },
     "execution_count": 6,
     "metadata": {},
     "output_type": "execute_result"
    }
   ],
   "source": [
    "file_path = fname\n",
    "open_file = open(file_path, 'r')\n",
    "text = open_file.read()\n",
    "len(text)"
   ]
  },
  {
   "cell_type": "code",
   "execution_count": 7,
   "metadata": {},
   "outputs": [
    {
     "data": {
      "text/plain": [
       "'l'"
      ]
     },
     "execution_count": 7,
     "metadata": {},
     "output_type": "execute_result"
    }
   ],
   "source": [
    "text[56]"
   ]
  },
  {
   "cell_type": "code",
   "execution_count": 8,
   "metadata": {},
   "outputs": [
    {
     "data": {
      "text/plain": [
       "<_io.TextIOWrapper name='20180623BOSTON.html' mode='r' encoding='UTF-8'>"
      ]
     },
     "execution_count": 8,
     "metadata": {},
     "output_type": "execute_result"
    }
   ],
   "source": [
    "open_file"
   ]
  },
  {
   "cell_type": "markdown",
   "metadata": {},
   "source": [
    "###### \"It is a good practice to close a file when you finish with it\""
   ]
  },
  {
   "cell_type": "code",
   "execution_count": 9,
   "metadata": {},
   "outputs": [
    {
     "data": {
      "text/plain": [
       "<function TextIOWrapper.close()>"
      ]
     },
     "execution_count": 9,
     "metadata": {},
     "output_type": "execute_result"
    }
   ],
   "source": [
    "open_file.close"
   ]
  },
  {
   "cell_type": "markdown",
   "metadata": {},
   "source": [
    "#### `readlines` method\n",
    "This method reads the file and splits its contents on newline characters"
   ]
  },
  {
   "cell_type": "code",
   "execution_count": 10,
   "metadata": {},
   "outputs": [
    {
     "data": {
      "text/plain": [
       "60"
      ]
     },
     "execution_count": 10,
     "metadata": {},
     "output_type": "execute_result"
    }
   ],
   "source": [
    "open_file = open(file_path,'r')\n",
    "text = open_file.readlines()\n",
    "len(text)"
   ]
  },
  {
   "cell_type": "code",
   "execution_count": 12,
   "metadata": {},
   "outputs": [
    {
     "data": {
      "text/plain": [
       "'Sys.Application.add_init(function() {\\n'"
      ]
     },
     "execution_count": 12,
     "metadata": {},
     "output_type": "execute_result"
    }
   ],
   "source": [
    "text[56]"
   ]
  },
  {
   "cell_type": "code",
   "execution_count": null,
   "metadata": {},
   "outputs": [],
   "source": [
    "open_file.close()"
   ]
  }
 ],
 "metadata": {
  "kernelspec": {
   "display_name": "conda_python3",
   "language": "python",
   "name": "conda_python3"
  },
  "language_info": {
   "codemirror_mode": {
    "name": "ipython",
    "version": 3
   },
   "file_extension": ".py",
   "mimetype": "text/x-python",
   "name": "python",
   "nbconvert_exporter": "python",
   "pygments_lexer": "ipython3",
   "version": "3.6.5"
  }
 },
 "nbformat": 4,
 "nbformat_minor": 4
}
