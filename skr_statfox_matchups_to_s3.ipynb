{
 "cells": [
  {
   "cell_type": "markdown",
   "metadata": {},
   "source": [
    "# Scrape StatFox for Current and Historical Matchup Stats\n",
    "###### BY: Jonathan Sims\n",
    "###### CREATED: 2019-06-15\n",
    "- USE: Scrape each statfox matchup page and save to S3 as pickled dataframe (~20kb each)"
   ]
  },
  {
   "cell_type": "markdown",
   "metadata": {},
   "source": [
    "#### `Modules`"
   ]
  },
  {
   "cell_type": "code",
   "execution_count": 30,
   "metadata": {},
   "outputs": [],
   "source": [
    "import sys\n",
    "import os.path\n",
    "from bs4 import BeautifulSoup\n",
    "from urllib.request import urlopen\n",
    "import boto3\n",
    "import numpy as np\n",
    "import pandas as pd \n",
    "import pickle\n",
    "import codecs\n",
    "from datetime import datetime"
   ]
  },
  {
   "cell_type": "markdown",
   "metadata": {},
   "source": [
    "#### `Parameters`"
   ]
  },
  {
   "cell_type": "code",
   "execution_count": 21,
   "metadata": {},
   "outputs": [],
   "source": [
    "file_i = 'gamelogs_2010_2018.csv.gz' \n",
    "file_l = '20200224.skr_rawhtml.2014.log'"
   ]
  },
  {
   "cell_type": "markdown",
   "metadata": {},
   "source": [
    "#### `Functions`"
   ]
  },
  {
   "cell_type": "code",
   "execution_count": 8,
   "metadata": {},
   "outputs": [],
   "source": [
    "def ToPickleS3(obj, bucketname, keyname):\n",
    "    \"\"\"Pickle dataframe and put to s3 bucket in site name folder\n",
    "    i.e. 'statfox/'\n",
    "    \"\"\"\n",
    "    s3 = boto3.client('s3')\n",
    "    serializedListObject = pickle.dumps(obj)\n",
    "    s3.put_object(Bucket=bucketname,Key=keyname,Body=serializedListObject)"
   ]
  },
  {
   "cell_type": "markdown",
   "metadata": {},
   "source": [
    "#### Get list of games"
   ]
  },
  {
   "cell_type": "code",
   "execution_count": 28,
   "metadata": {},
   "outputs": [],
   "source": [
    "glhead = pd.read_csv('GLHEADER.CSV',header=None)\n",
    "\n",
    "gms = pd.read_csv(file_i,\n",
    "                  header=0,\n",
    "                  names=list(glhead[0]),\n",
    "                  usecols=['date','team_h','team_v','score_h','score_v'])\n",
    "# gms = gms[['date','team_h','team_v','score_h','score_v']]\n",
    "\n",
    "teams = pd.read_csv('TEAM_NAMES.CSV',header=0,index_col=['name1'],usecols=['name1','name3'])\n",
    "teams = teams['name3'].to_dict()\n",
    "\n",
    "gms['team_h'] = gms['team_h'].map(lambda x: teams[x.upper()])\n",
    "gms['team_v'] = gms['team_v'].map(lambda x: teams[x.upper()])"
   ]
  },
  {
   "cell_type": "markdown",
   "metadata": {},
   "source": [
    "#### Only scrape 2014 to 2017"
   ]
  },
  {
   "cell_type": "code",
   "execution_count": null,
   "metadata": {},
   "outputs": [],
   "source": [
    "gms_year = gms['date']/10000\n",
    "gms[(2014 <= gms_year) & (gms_year < 2018)]"
   ]
  },
  {
   "cell_type": "markdown",
   "metadata": {},
   "source": [
    "#### Visit each page in games list, scrape, and send to s3 as pickle"
   ]
  },
  {
   "cell_type": "code",
   "execution_count": 10,
   "metadata": {},
   "outputs": [
    {
     "name": "stdout",
     "output_type": "stream",
     "text": [
      "http://foxsheets.statfoxsports.com/foxsheets.aspx?s=mlb&g=20130401CHIWHITESOX&r=at\n",
      "http://foxsheets.statfoxsports.com/foxsheets.aspx?s=mlb&g=20130408STLOUIS&r=at\n",
      "http://foxsheets.statfoxsports.com/foxsheets.aspx?s=mlb&g=20130416MILWAUKEE&r=at\n",
      "http://foxsheets.statfoxsports.com/foxsheets.aspx?s=mlb&g=20130424TAMPABAY&r=at\n",
      "http://foxsheets.statfoxsports.com/foxsheets.aspx?s=mlb&g=20130501ARIZONA&r=at\n",
      "http://foxsheets.statfoxsports.com/foxsheets.aspx?s=mlb&g=20130509TAMPABAY&r=at\n",
      "http://foxsheets.statfoxsports.com/foxsheets.aspx?s=mlb&g=20130516STLOUIS&r=at\n",
      "http://foxsheets.statfoxsports.com/foxsheets.aspx?s=mlb&g=20130524TORONTO&r=at\n",
      "http://foxsheets.statfoxsports.com/foxsheets.aspx?s=mlb&g=20130531NYYANKEES&r=at\n",
      "http://foxsheets.statfoxsports.com/foxsheets.aspx?s=mlb&g=20130607LADODGERS&r=at\n",
      "http://foxsheets.statfoxsports.com/foxsheets.aspx?s=mlb&g=20130615HOUSTON&r=at\n",
      "http://foxsheets.statfoxsports.com/foxsheets.aspx?s=mlb&g=20130622DETROIT&r=at\n",
      "http://foxsheets.statfoxsports.com/foxsheets.aspx?s=mlb&g=20130629NYMETS&r=at\n",
      "http://foxsheets.statfoxsports.com/foxsheets.aspx?s=mlb&g=20130707KANSASCITY&r=at\n",
      "http://foxsheets.statfoxsports.com/foxsheets.aspx?s=mlb&g=20130714DETROIT&r=at\n",
      "http://foxsheets.statfoxsports.com/foxsheets.aspx?s=mlb&g=20130724SANFRANCISCO&r=at\n",
      "http://foxsheets.statfoxsports.com/foxsheets.aspx?s=mlb&g=20130731PHILADELPHIA&r=at\n",
      "http://foxsheets.statfoxsports.com/foxsheets.aspx?s=mlb&g=20130808NYMETS&r=at\n",
      "http://foxsheets.statfoxsports.com/foxsheets.aspx?s=mlb&g=20130815STLOUIS&r=at\n",
      "http://foxsheets.statfoxsports.com/foxsheets.aspx?s=mlb&g=20130823BALTIMORE&r=at\n",
      "http://foxsheets.statfoxsports.com/foxsheets.aspx?s=mlb&g=20130830TORONTO&r=at\n",
      "http://foxsheets.statfoxsports.com/foxsheets.aspx?s=mlb&g=20130906CINCINNATI&r=at\n",
      "http://foxsheets.statfoxsports.com/foxsheets.aspx?s=mlb&g=20130913PITTSBURGH&r=at\n",
      "http://foxsheets.statfoxsports.com/foxsheets.aspx?s=mlb&g=20130920PITTSBURGH&r=at\n",
      "http://foxsheets.statfoxsports.com/foxsheets.aspx?s=mlb&g=20130928CHIWHITESOX&r=at\n"
     ]
    }
   ],
   "source": [
    "for x in range(len(gms)):    \n",
    "# for x in range(3):\n",
    "\n",
    "    try:\n",
    "        \n",
    "        #### Parse date, team names, and score from games list\n",
    "        \n",
    "        dt = str(gms.loc[x,'date'])\n",
    "        tm_h = str(gms.loc[x,'team_h']).replace(' ','')                                                              \n",
    "        tm_v = str(gms.loc[x,'team_v']).replace(' ','')\n",
    "        sc_h = gms.loc[x,'score_h']\n",
    "        sc_v = gms.loc[x,'score_v']\n",
    "\n",
    "        #### Adjust URL if second game of double header\n",
    "        \n",
    "        if (x > 1) and (str(gms.loc[x-1,'date']) == dt) and (str(gms.loc[x-1,'team_h']).replace(' ','') == tm_h):\n",
    "            tm_h = tm_h+'2'\n",
    "\n",
    "        #### URL to scrape\n",
    "        \n",
    "        url = 'http://foxsheets.statfoxsports.com/foxsheets.aspx?s=mlb&g='+dt+tm_h+'&r=at'    \n",
    "\n",
    "        #### Parse HTML\n",
    "        \n",
    "        html = urlopen(url)\n",
    "        bs = BeautifulSoup(html.read(), 'html.parser')\n",
    "\n",
    "        #### Get all tables from page\n",
    "        \n",
    "        nameList = bs.findAll('td', {'class':['matchupBorder']})\n",
    "\n",
    "        #### Save each table to a dataframe and pickle\n",
    "        \n",
    "        namestr = str(nameList)\n",
    "        df = pd.read_html(namestr)\n",
    "        ToPickleS3(df, bucketname='scrapes-rawhtml-dev', keyname='statfox_DEV/'+dt+tm_h+'.pkl')\n",
    "\n",
    "    #### Write exception to log and continue\n",
    "    \n",
    "    except Exception as exc:\n",
    "        excstamp = datetime.now()+' - '+exc+' - 'url\n",
    "        print(excstamp, file=open(file_l, 'a'))\n",
    "        continue\n",
    "        \n",
    "    #### Print checkpoint for my OCD\n",
    "    \n",
    "    if x%100 == 0:\n",
    "        print(datetime.now()+' - '+url)"
   ]
  }
 ],
 "metadata": {
  "kernelspec": {
   "display_name": "conda_python3",
   "language": "python",
   "name": "conda_python3"
  },
  "language_info": {
   "codemirror_mode": {
    "name": "ipython",
    "version": 3
   },
   "file_extension": ".py",
   "mimetype": "text/x-python",
   "name": "python",
   "nbconvert_exporter": "python",
   "pygments_lexer": "ipython3",
   "version": "3.6.5"
  }
 },
 "nbformat": 4,
 "nbformat_minor": 4
}
