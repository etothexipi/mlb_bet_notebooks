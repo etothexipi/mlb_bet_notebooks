{
 "cells": [
  {
   "cell_type": "markdown",
   "metadata": {},
   "source": [
    "# Scrape StatFox for Current and Historical Matchup Stats\n",
    "###### BY: Jonathan Sims\n",
    "###### CREATED: 2019-06-15\n",
    "- USE: Scrape each statfox matchup page and save to S3 as pickled dataframe (~20kb each)"
   ]
  },
  {
   "cell_type": "markdown",
   "metadata": {},
   "source": [
    "#### `Modules`"
   ]
  },
  {
   "cell_type": "code",
   "execution_count": 1,
   "metadata": {},
   "outputs": [],
   "source": [
    "import sys\n",
    "import os.path\n",
    "from bs4 import BeautifulSoup\n",
    "from urllib.request import urlopen\n",
    "import boto3\n",
    "import numpy as np\n",
    "import pandas as pd \n",
    "import pickle\n",
    "import codecs"
   ]
  },
  {
   "cell_type": "markdown",
   "metadata": {},
   "source": [
    "#### `Parameters`"
   ]
  },
  {
   "cell_type": "code",
   "execution_count": 2,
   "metadata": {},
   "outputs": [],
   "source": [
    "glyear = 'GL2012.CSV' # Year of game logs to scrape"
   ]
  },
  {
   "cell_type": "markdown",
   "metadata": {},
   "source": [
    "#### `Functions`"
   ]
  },
  {
   "cell_type": "code",
   "execution_count": 3,
   "metadata": {},
   "outputs": [],
   "source": [
    "def ToPickleS3(obj, bucketname, keyname):\n",
    "    \"\"\"Pickle dataframe and put to s3 bucket in site name folder\n",
    "    i.e. 'statfox/'\n",
    "    \"\"\"\n",
    "    s3 = boto3.client('s3')\n",
    "    serializedListObject = pickle.dumps(obj)\n",
    "    s3.put_object(Bucket=bucketname,Key=keyname,Body=serializedListObject)"
   ]
  },
  {
   "cell_type": "markdown",
   "metadata": {},
   "source": [
    "#### Get list of games"
   ]
  },
  {
   "cell_type": "code",
   "execution_count": 4,
   "metadata": {},
   "outputs": [],
   "source": [
    "glhead = pd.read_csv('GLHEADER.CSV',header=None)\n",
    "gms = pd.read_csv(glyear,header=0,names=list(glhead[0]))\n",
    "gms = gms[['date','team_h','team_v','score_h','score_v']]\n",
    "\n",
    "teams = pd.read_csv('TEAM_NAMES.CSV',header=0,index_col=['name1'],usecols=['name1','name3'])\n",
    "teams = teams['name3'].to_dict()\n",
    "\n",
    "gms['team_h'] = gms['team_h'].map(lambda x: teams[x.upper()])\n",
    "gms['team_v'] = gms['team_v'].map(lambda x: teams[x.upper()])"
   ]
  },
  {
   "cell_type": "markdown",
   "metadata": {},
   "source": [
    "#### Visit each page in games list, scrape, and send to s3 as pickle"
   ]
  },
  {
   "cell_type": "code",
   "execution_count": 5,
   "metadata": {},
   "outputs": [
    {
     "name": "stdout",
     "output_type": "stream",
     "text": [
      "http://foxsheets.statfoxsports.com/foxsheets.aspx?s=mlb&g=20120329OAKLAND&r=at\n",
      "http://foxsheets.statfoxsports.com/foxsheets.aspx?s=mlb&g=20120413TORONTO&r=at\n",
      "http://foxsheets.statfoxsports.com/foxsheets.aspx?s=mlb&g=20120420MILWAUKEE&r=at\n",
      "http://foxsheets.statfoxsports.com/foxsheets.aspx?s=mlb&g=20120428NYYANKEES&r=at\n",
      "http://foxsheets.statfoxsports.com/foxsheets.aspx?s=mlb&g=20120505NYMETS&r=at\n",
      "http://foxsheets.statfoxsports.com/foxsheets.aspx?s=mlb&g=20120513BOSTON&r=at\n",
      "http://foxsheets.statfoxsports.com/foxsheets.aspx?s=mlb&g=20120519PHILADELPHIA&r=at\n",
      "http://foxsheets.statfoxsports.com/foxsheets.aspx?s=mlb&g=20120527BOSTON&r=at\n",
      "http://foxsheets.statfoxsports.com/foxsheets.aspx?s=mlb&g=20120603MILWAUKEE&r=at\n",
      "http://foxsheets.statfoxsports.com/foxsheets.aspx?s=mlb&g=20120611TORONTO&r=at\n",
      "http://foxsheets.statfoxsports.com/foxsheets.aspx?s=mlb&g=20120619BOSTON&r=at\n",
      "http://foxsheets.statfoxsports.com/foxsheets.aspx?s=mlb&g=20120626ATLANTA&r=at\n",
      "http://foxsheets.statfoxsports.com/foxsheets.aspx?s=mlb&g=20120703ARIZONA&r=at\n",
      "http://foxsheets.statfoxsports.com/foxsheets.aspx?s=mlb&g=20120714NYYANKEES&r=at\n",
      "http://foxsheets.statfoxsports.com/foxsheets.aspx?s=mlb&g=20120721OAKLAND&r=at\n",
      "http://foxsheets.statfoxsports.com/foxsheets.aspx?s=mlb&g=20120728ATLANTA&r=at\n",
      "http://foxsheets.statfoxsports.com/foxsheets.aspx?s=mlb&g=20120804PHILADELPHIA&r=at\n",
      "http://foxsheets.statfoxsports.com/foxsheets.aspx?s=mlb&g=20120811SANFRANCISCO&r=at\n",
      "http://foxsheets.statfoxsports.com/foxsheets.aspx?s=mlb&g=20120819DETROIT&r=at\n",
      "http://foxsheets.statfoxsports.com/foxsheets.aspx?s=mlb&g=20120826ARIZONA&r=at\n",
      "http://foxsheets.statfoxsports.com/foxsheets.aspx?s=mlb&g=20120902HOUSTON&r=at\n",
      "http://foxsheets.statfoxsports.com/foxsheets.aspx?s=mlb&g=20120910LAANGELS&r=at\n",
      "http://foxsheets.statfoxsports.com/foxsheets.aspx?s=mlb&g=20120918LAANGELS&r=at\n",
      "http://foxsheets.statfoxsports.com/foxsheets.aspx?s=mlb&g=20120925CHIWHITESOX&r=at\n",
      "http://foxsheets.statfoxsports.com/foxsheets.aspx?s=mlb&g=20121002KANSASCITY&r=at\n"
     ]
    }
   ],
   "source": [
    "for x in range(len(gms)):    \n",
    "# for x in range(3):\n",
    "    \n",
    "    # Parse date, team names, and score from games list\n",
    "    dt = str(gms.loc[x,'date'])\n",
    "    tm_h = str(gms.loc[x,'team_h']).replace(' ','')                                                              \n",
    "    tm_v = str(gms.loc[x,'team_v']).replace(' ','')\n",
    "    sc_h = gms.loc[x,'score_h']\n",
    "    sc_v = gms.loc[x,'score_v']\n",
    "\n",
    "    # Adjust URL if second game of double header\n",
    "    if (x > 1) and (str(gms.loc[x-1,'date']) == dt) and (str(gms.loc[x-1,'team_h']).replace(' ','') == tm_h):\n",
    "        tm_h = tm_h+'2'\n",
    "    \n",
    "    # URL\n",
    "    url = 'http://foxsheets.statfoxsports.com/foxsheets.aspx?s=mlb&g='+dt+tm_h+'&r=at'    \n",
    "    \n",
    "    # Parse HTML\n",
    "    html = urlopen(url)\n",
    "    bs = BeautifulSoup(html.read(), 'html.parser')\n",
    "\n",
    "    # Get all tables from page\n",
    "    nameList = bs.findAll('td', {'class':['matchupBorder']})\n",
    "     \n",
    "    # Save each table to a dataframe and pickle\n",
    "    namestr = str(nameList)\n",
    "    df = pd.read_html(namestr)\n",
    "    ToPickleS3(df, bucketname='scrapes-rawhtml-dev', keyname='statfox_DEV/'+dt+tm_h+'.pkl')\n",
    "    \n",
    "    # Checkpoint\n",
    "    if x%100 == 0:\n",
    "        print(url)"
   ]
  }
 ],
 "metadata": {
  "kernelspec": {
   "display_name": "conda_python3",
   "language": "python",
   "name": "conda_python3"
  },
  "language_info": {
   "codemirror_mode": {
    "name": "ipython",
    "version": 3
   },
   "file_extension": ".py",
   "mimetype": "text/x-python",
   "name": "python",
   "nbconvert_exporter": "python",
   "pygments_lexer": "ipython3",
   "version": "3.6.5"
  }
 },
 "nbformat": 4,
 "nbformat_minor": 4
}
